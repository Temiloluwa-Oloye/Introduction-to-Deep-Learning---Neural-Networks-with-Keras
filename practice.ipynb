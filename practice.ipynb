{
 "cells": [
  {
   "cell_type": "markdown",
   "id": "e808d09e",
   "metadata": {},
   "source": [
    "# Import Required Library #"
   ]
  },
  {
   "cell_type": "code",
   "execution_count": 2,
   "id": "5d76c9b5",
   "metadata": {},
   "outputs": [],
   "source": [
    "import numpy as np"
   ]
  },
  {
   "cell_type": "markdown",
   "id": "b2ea5f57",
   "metadata": {},
   "source": [
    "# Initialize Network #"
   ]
  },
  {
   "cell_type": "code",
   "execution_count": 4,
   "id": "2a918292",
   "metadata": {},
   "outputs": [],
   "source": [
    "def initialize_network(num_input, num_hidden, node_hidden, num_output):\n",
    "    network = {}\n",
    "    num_previous = num_input\n",
    "\n",
    "    for layer in range(num_hidden + 1):\n",
    "        if layer == num_hidden:\n",
    "            layer_name = \"output\"\n",
    "            num_nodes = num_output\n",
    "        else:\n",
    "            layer_name = f\"layer_{layer+1}\"\n",
    "            num_nodes = node_hidden[layer]\n",
    "\n",
    "        network[layer_name] = {}\n",
    "\n",
    "        for node in range(num_nodes):\n",
    "            node_name = f\"node_{node + 1}\"\n",
    "            network[layer_name][node_name] = {\n",
    "                \"weights\": np.around(np.random.uniform(size=num_previous), decimals=2),\n",
    "                \"bias\": np.around(np.random.uniform(size=1), decimals=2)\n",
    "            }\n",
    "\n",
    "        num_previous = num_nodes\n",
    "\n",
    "    return network"
   ]
  },
  {
   "cell_type": "code",
   "execution_count": 5,
   "id": "2a9f4019",
   "metadata": {},
   "outputs": [
    {
     "data": {
      "text/plain": [
       "{'layer_1': {'node_1': {'weights': array([0.19, 0.17, 0.25, 0.03, 0.94]),\n",
       "   'bias': array([0.15])},\n",
       "  'node_2': {'weights': array([0.29, 0.35, 0.37, 0.26, 0.71]),\n",
       "   'bias': array([0.43])},\n",
       "  'node_3': {'weights': array([0.05, 0.89, 0.32, 0.22, 0.15]),\n",
       "   'bias': array([0.47])}},\n",
       " 'layer_2': {'node_1': {'weights': array([0.28, 0.87, 0.78]),\n",
       "   'bias': array([0.01])},\n",
       "  'node_2': {'weights': array([0.75, 0.32, 0.28]), 'bias': array([0.22])}},\n",
       " 'layer_3': {'node_1': {'weights': array([0.53, 0.15]), 'bias': array([0.82])},\n",
       "  'node_2': {'weights': array([0.81, 0.27]), 'bias': array([0.08])},\n",
       "  'node_3': {'weights': array([0.77, 0.99]), 'bias': array([0.47])}},\n",
       " 'output': {'node_1': {'weights': array([0.04, 0.07, 0.81]),\n",
       "   'bias': array([0.85])}}}"
      ]
     },
     "execution_count": 5,
     "metadata": {},
     "output_type": "execute_result"
    }
   ],
   "source": [
    "small_network = initialize_network(5, 3, [3, 2, 3], 1)\n",
    "small_network"
   ]
  },
  {
   "cell_type": "markdown",
   "id": "8e25822e",
   "metadata": {},
   "source": [
    "# Compute Weighted Sum at Each Node #"
   ]
  },
  {
   "cell_type": "code",
   "execution_count": 10,
   "id": "a6ab7631",
   "metadata": {},
   "outputs": [],
   "source": [
    "def compute_weighted_sum(input, weights, bias):\n",
    "    return (input * weights) + bias"
   ]
  },
  {
   "cell_type": "markdown",
   "id": "416e865d",
   "metadata": {},
   "source": [
    "# Compute Node Activation #"
   ]
  },
  {
   "cell_type": "code",
   "execution_count": 11,
   "id": "da7652e8",
   "metadata": {},
   "outputs": [],
   "source": [
    "def node_activation(weighted_sum):\n",
    "    return 1/(1 + np.exp(-1 * weighted_sum))"
   ]
  },
  {
   "cell_type": "markdown",
   "id": "19771ce4",
   "metadata": {},
   "source": [
    "# Forward Propagation #"
   ]
  },
  {
   "cell_type": "code",
   "execution_count": 15,
   "id": "4f3e2130",
   "metadata": {},
   "outputs": [],
   "source": [
    "def forward_propagate(network, input):\n",
    "    layer_input = list(input)\n",
    "\n",
    "    for layer in network:\n",
    "        layer_data = network[layer]\n",
    "        layer_output = []\n",
    "\n",
    "        for node in layer_data:\n",
    "            node_data = layer_data[node]\n",
    "            node_output = node_activation(compute_weighted_sum(layer_input, node_data[\"weights\"], node_data[\"bias\"]))\n",
    "            layer_output.append(np.around(node_output[0], decimals=4))\n",
    "\n",
    "        if layer != \"output\":\n",
    "            print(f\"The output for {layer} are: {layer_output}\")\n",
    "\n",
    "        layer_input = layer_output\n",
    "\n",
    "    network_prediction = layer_output\n",
    "\n",
    "    return network_prediction\n"
   ]
  },
  {
   "cell_type": "code",
   "execution_count": 13,
   "id": "d6fa2f16",
   "metadata": {},
   "outputs": [
    {
     "name": "stdout",
     "output_type": "stream",
     "text": [
      "The inputs to the network are [0.15 0.74 0.26 0.53 0.01]\n"
     ]
    }
   ],
   "source": [
    "np.random.seed(12)\n",
    "inputs = np.around(np.random.uniform(size=5), decimals=2)\n",
    "\n",
    "print('The inputs to the network are {}'.format(inputs))"
   ]
  },
  {
   "cell_type": "code",
   "execution_count": null,
   "id": "80afb4be",
   "metadata": {},
   "outputs": [
    {
     "name": "stdout",
     "output_type": "stream",
     "text": [
      "The output for layer_1 are: [0.5445, 0.6162, 0.6172]\n",
      "The output for layer_2 are: [0.5405, 0.6521]\n",
      "The output for layer_3 are: [0.7515, 0.6266, 0.7081]\n",
      "The predicted value by the network for the given input is 0.7068\n"
     ]
    },
    {
     "ename": "",
     "evalue": "",
     "output_type": "error",
     "traceback": [
      "\u001b[1;31mThe Kernel crashed while executing code in the current cell or a previous cell. \n",
      "\u001b[1;31mPlease review the code in the cell(s) to identify a possible cause of the failure. \n",
      "\u001b[1;31mClick <a href='https://aka.ms/vscodeJupyterKernelCrash'>here</a> for more info. \n",
      "\u001b[1;31mView Jupyter <a href='command:jupyter.viewOutput'>log</a> for further details."
     ]
    }
   ],
   "source": [
    "predictions = forward_propagate(small_network, inputs)\n",
    "print('The predicted value by the network for the given input is {}'.format(np.around(predictions[0], decimals=4)))"
   ]
  },
  {
   "cell_type": "code",
   "execution_count": null,
   "id": "f91a5a16",
   "metadata": {},
   "outputs": [],
   "source": []
  }
 ],
 "metadata": {
  "kernelspec": {
   "display_name": "Python 3",
   "language": "python",
   "name": "python3"
  },
  "language_info": {
   "codemirror_mode": {
    "name": "ipython",
    "version": 3
   },
   "file_extension": ".py",
   "mimetype": "text/x-python",
   "name": "python",
   "nbconvert_exporter": "python",
   "pygments_lexer": "ipython3",
   "version": "3.11.9"
  }
 },
 "nbformat": 4,
 "nbformat_minor": 5
}
