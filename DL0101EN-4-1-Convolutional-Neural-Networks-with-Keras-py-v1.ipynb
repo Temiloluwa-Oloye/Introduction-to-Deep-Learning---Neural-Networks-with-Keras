{
 "cells": [
  {
   "cell_type": "markdown",
   "id": "6a259076-5a31-482e-b598-0138c6bfe11a",
   "metadata": {},
   "source": [
    "<a href=\"https://cognitiveclass.ai\"><img src=\"https://cf-courses-data.s3.us.cloud-object-storage.appdomain.cloud/IBMDeveloperSkillsNetwork-DL0101EN-SkillsNetwork/images/IDSN-logo.png\" width=\"400\"> </a>\n",
    "\n",
    "# Convolutional Neural Networks with Keras\n",
    "\n",
    "Estimated time needed **30** mins\n"
   ]
  },
  {
   "cell_type": "markdown",
   "id": "2a86cd7f-c191-4c78-92a5-2479b13cba2b",
   "metadata": {},
   "source": [
    "In this lab, we will learn how to use the Keras library to build convolutional neural networks. We will also use the popular MNIST dataset and we will compare our results to using a conventional neural network.\n"
   ]
  },
  {
   "cell_type": "markdown",
   "id": "a7c948e3-995c-45c0-86f0-8916fbee6b02",
   "metadata": {},
   "source": [
    "## Objectives for this Notebook    \n",
    "* How to use the Keras library to build convolutional neural networks\n",
    "* Convolutional neural network with one set of convolutional and pooling layers\n",
    "* Convolutional neural network with two sets of convolutional and pooling layers\n",
    "\n"
   ]
  },
  {
   "cell_type": "markdown",
   "id": "82e267c1-74e4-4f30-be50-15b58d592add",
   "metadata": {},
   "source": [
    "## Table of Contents\n",
    "\n",
    "<div class=\"alert alert-block alert-info\" style=\"margin-top: 20px\">\n",
    "\n",
    "<font size = 3>\n",
    "      \n",
    "1. <a href=\"#Import-Keras-and-Packages\">Import Keras and Packages</a>   \n",
    "2. <a href=\"#Convolutional-Neural-Network-with-One-Set-of-Convolutional-and-Pooling-Layers\">Convolutional Neural Network with One Set of Convolutional and Pooling Layers</a>  \n",
    "3. <a href=\"#Convolutional-Neural-Network-with-Two-Sets-of-Convolutional-and-Pooling-Layers\">Convolutional Neural Network with Two Sets of Convolutional and Pooling Layers</a>  \n",
    "\n",
    "</font>\n",
    "</div>\n"
   ]
  },
  {
   "cell_type": "markdown",
   "id": "a2725718-c839-403f-8017-236d760c20c0",
   "metadata": {},
   "source": [
    "### Install the necessary libraries\n"
   ]
  },
  {
   "cell_type": "markdown",
   "id": "5860a2ee-ec49-4add-ad79-556d6960495a",
   "metadata": {},
   "source": [
    "Let's start by installing the keras libraries and the packages that we would need to build a neural network.\n"
   ]
  },
  {
   "cell_type": "code",
   "execution_count": null,
   "id": "dc5e450c-e81e-42b1-a564-7d59bd960067",
   "metadata": {},
   "outputs": [],
   "source": [
    "# All Libraries required for this lab are listed below. The libraries need to be installed on Skills Network Labs. \n",
    "# If you run this notebook on a different environment, e.g. your desktop, you may want to install these.\n",
    "!pip install numpy==2.0.2\n",
    "!pip install pandas==2.2.2\n",
    "!pip install tensorflow_cpu==2.18.0\n",
    "!pip install matplotlib==3.9.2"
   ]
  },
  {
   "cell_type": "markdown",
   "id": "df48ab35-3ce3-4d73-9e9f-142c1c272773",
   "metadata": {},
   "source": [
    "#### Suppress the tensorflow warning messages\n",
    "We use the following code to  suppress the warning messages due to use of CPU architechture for tensoflow.\n",
    "You may want to **comment out** these lines if you are using the GPU architechture\n"
   ]
  },
  {
   "cell_type": "code",
   "execution_count": 1,
   "id": "c4d79a7c-6cbc-4b7c-8f6e-23c4d3dbec4f",
   "metadata": {},
   "outputs": [],
   "source": [
    "import os\n",
    "os.environ['TF_ENABLE_ONEDNN_OPTS'] = '0'\n",
    "os.environ['TF_CPP_MIN_LOG_LEVEL'] = '2'"
   ]
  },
  {
   "cell_type": "markdown",
   "id": "c8cb5959-7529-4024-aabe-711e02b1a573",
   "metadata": {},
   "source": [
    "## Import Keras and Packages\n"
   ]
  },
  {
   "cell_type": "code",
   "execution_count": 2,
   "id": "54f7f5de-dd4f-4160-97a7-41fc13358596",
   "metadata": {},
   "outputs": [
    {
     "name": "stdout",
     "output_type": "stream",
     "text": [
      "WARNING:tensorflow:From C:\\Users\\Temiloluwa Oloye\\AppData\\Local\\Packages\\PythonSoftwareFoundation.Python.3.11_qbz5n2kfra8p0\\LocalCache\\local-packages\\Python311\\site-packages\\keras\\src\\losses.py:2976: The name tf.losses.sparse_softmax_cross_entropy is deprecated. Please use tf.compat.v1.losses.sparse_softmax_cross_entropy instead.\n",
      "\n"
     ]
    }
   ],
   "source": [
    "import keras\n",
    "from keras.models import Sequential\n",
    "from keras.layers import Dense\n",
    "from keras.layers import Input\n",
    "from keras.utils import to_categorical"
   ]
  },
  {
   "cell_type": "markdown",
   "id": "6ae6ee1f-c5f9-4136-a661-d0ecad7bc618",
   "metadata": {},
   "source": [
    "When working with convolutional neural networks in particular, we will need additional packages.\n"
   ]
  },
  {
   "cell_type": "code",
   "execution_count": 3,
   "id": "59965020-f741-41d0-8b70-00253641ff4c",
   "metadata": {},
   "outputs": [],
   "source": [
    "from keras.layers import Conv2D # to add convolutional layers\n",
    "from keras.layers import MaxPooling2D # to add pooling layers\n",
    "from keras.layers import Flatten # to flatten data for fully connected layers"
   ]
  },
  {
   "cell_type": "markdown",
   "id": "b4be0cd5-9e2a-44f7-a6de-1fdc46923fb4",
   "metadata": {},
   "source": [
    "## Convolutional Neural Network with One Set of Convolutional and Pooling Layers\n"
   ]
  },
  {
   "cell_type": "code",
   "execution_count": 4,
   "id": "21cd5320-20a6-4e90-89be-81af7990a4c5",
   "metadata": {},
   "outputs": [],
   "source": [
    "# import data\n",
    "from keras.datasets import mnist\n",
    "\n",
    "# load data\n",
    "(X_train, y_train), (X_test, y_test) = mnist.load_data()\n",
    "\n",
    "# reshape to be [samples][pixels][width][height]\n",
    "X_train = X_train.reshape(X_train.shape[0], 28, 28, 1).astype('float32')\n",
    "X_test = X_test.reshape(X_test.shape[0], 28, 28, 1).astype('float32')"
   ]
  },
  {
   "cell_type": "markdown",
   "id": "82a804cb-2ea6-4925-94a1-ef4ba5a2ef1d",
   "metadata": {},
   "source": [
    "Let's normalize the pixel values to be between 0 and 1\n"
   ]
  },
  {
   "cell_type": "code",
   "execution_count": 5,
   "id": "26b2fc47-fbfb-42ce-bfe7-d1cda99d4988",
   "metadata": {},
   "outputs": [],
   "source": [
    "X_train = X_train / 255 # normalize training data\n",
    "X_test = X_test / 255 # normalize test data"
   ]
  },
  {
   "cell_type": "markdown",
   "id": "58622fd9-b0ff-408c-baf5-4db94f8a0a97",
   "metadata": {},
   "source": [
    "Next, let's convert the target variable into binary categories\n"
   ]
  },
  {
   "cell_type": "code",
   "execution_count": 6,
   "id": "c01c40ef-75ba-4c87-954a-4f5ecef7b41f",
   "metadata": {},
   "outputs": [],
   "source": [
    "y_train = to_categorical(y_train)\n",
    "y_test = to_categorical(y_test)\n",
    "\n",
    "num_classes = y_test.shape[1] # number of categories"
   ]
  },
  {
   "cell_type": "markdown",
   "id": "2c42c05a-ae9e-44bc-ab58-5b5c55c6cc43",
   "metadata": {},
   "source": [
    "Next, let's define a function that creates our model. Let's start with one set of convolutional and pooling layers.\n"
   ]
  },
  {
   "cell_type": "code",
   "execution_count": 7,
   "id": "678716df-28c6-4944-872b-2ab253d7ea68",
   "metadata": {},
   "outputs": [],
   "source": [
    "def convolutional_model():\n",
    "    \n",
    "    # create model\n",
    "    model = Sequential()\n",
    "    model.add(Input(shape=(28, 28, 1)))\n",
    "    model.add(Conv2D(16, (5, 5), strides=(1, 1), activation='relu'))\n",
    "    model.add(MaxPooling2D(pool_size=(2, 2), strides=(2, 2)))\n",
    "    \n",
    "    model.add(Flatten())\n",
    "    model.add(Dense(100, activation='relu'))\n",
    "    model.add(Dense(num_classes, activation='softmax'))\n",
    "    \n",
    "    # compile model\n",
    "    model.compile(optimizer='adam', loss='categorical_crossentropy',  metrics=['accuracy'])\n",
    "    return model"
   ]
  },
  {
   "cell_type": "markdown",
   "id": "d94c41fa-0fae-482c-b4f5-0729d31569c2",
   "metadata": {},
   "source": [
    "Finally, let's call the function to create the model, and then let's train it and evaluate it.\n"
   ]
  },
  {
   "cell_type": "code",
   "execution_count": 8,
   "id": "095aa859-c641-4d6d-abb6-a1712a64f89b",
   "metadata": {},
   "outputs": [
    {
     "name": "stdout",
     "output_type": "stream",
     "text": [
      "WARNING:tensorflow:From C:\\Users\\Temiloluwa Oloye\\AppData\\Local\\Packages\\PythonSoftwareFoundation.Python.3.11_qbz5n2kfra8p0\\LocalCache\\local-packages\\Python311\\site-packages\\keras\\src\\backend.py:873: The name tf.get_default_graph is deprecated. Please use tf.compat.v1.get_default_graph instead.\n",
      "\n",
      "WARNING:tensorflow:From C:\\Users\\Temiloluwa Oloye\\AppData\\Local\\Packages\\PythonSoftwareFoundation.Python.3.11_qbz5n2kfra8p0\\LocalCache\\local-packages\\Python311\\site-packages\\keras\\src\\layers\\pooling\\max_pooling2d.py:161: The name tf.nn.max_pool is deprecated. Please use tf.nn.max_pool2d instead.\n",
      "\n",
      "WARNING:tensorflow:From C:\\Users\\Temiloluwa Oloye\\AppData\\Local\\Packages\\PythonSoftwareFoundation.Python.3.11_qbz5n2kfra8p0\\LocalCache\\local-packages\\Python311\\site-packages\\keras\\src\\optimizers\\__init__.py:309: The name tf.train.Optimizer is deprecated. Please use tf.compat.v1.train.Optimizer instead.\n",
      "\n",
      "Epoch 1/10\n",
      "WARNING:tensorflow:From C:\\Users\\Temiloluwa Oloye\\AppData\\Local\\Packages\\PythonSoftwareFoundation.Python.3.11_qbz5n2kfra8p0\\LocalCache\\local-packages\\Python311\\site-packages\\keras\\src\\utils\\tf_utils.py:492: The name tf.ragged.RaggedTensorValue is deprecated. Please use tf.compat.v1.ragged.RaggedTensorValue instead.\n",
      "\n",
      "WARNING:tensorflow:From C:\\Users\\Temiloluwa Oloye\\AppData\\Local\\Packages\\PythonSoftwareFoundation.Python.3.11_qbz5n2kfra8p0\\LocalCache\\local-packages\\Python311\\site-packages\\keras\\src\\engine\\base_layer_utils.py:384: The name tf.executing_eagerly_outside_functions is deprecated. Please use tf.compat.v1.executing_eagerly_outside_functions instead.\n",
      "\n",
      "300/300 - 5s - loss: 0.3086 - accuracy: 0.9139 - val_loss: 0.1128 - val_accuracy: 0.9676 - 5s/epoch - 18ms/step\n",
      "Epoch 2/10\n",
      "300/300 - 4s - loss: 0.0904 - accuracy: 0.9740 - val_loss: 0.0637 - val_accuracy: 0.9795 - 4s/epoch - 15ms/step\n",
      "Epoch 3/10\n",
      "300/300 - 4s - loss: 0.0589 - accuracy: 0.9830 - val_loss: 0.0540 - val_accuracy: 0.9819 - 4s/epoch - 14ms/step\n",
      "Epoch 4/10\n",
      "300/300 - 4s - loss: 0.0450 - accuracy: 0.9866 - val_loss: 0.0538 - val_accuracy: 0.9816 - 4s/epoch - 14ms/step\n",
      "Epoch 5/10\n",
      "300/300 - 4s - loss: 0.0354 - accuracy: 0.9895 - val_loss: 0.0418 - val_accuracy: 0.9863 - 4s/epoch - 14ms/step\n",
      "Epoch 6/10\n",
      "300/300 - 4s - loss: 0.0295 - accuracy: 0.9914 - val_loss: 0.0353 - val_accuracy: 0.9892 - 4s/epoch - 14ms/step\n",
      "Epoch 7/10\n",
      "300/300 - 4s - loss: 0.0255 - accuracy: 0.9920 - val_loss: 0.0353 - val_accuracy: 0.9882 - 4s/epoch - 14ms/step\n",
      "Epoch 8/10\n",
      "300/300 - 4s - loss: 0.0201 - accuracy: 0.9940 - val_loss: 0.0356 - val_accuracy: 0.9882 - 4s/epoch - 14ms/step\n",
      "Epoch 9/10\n",
      "300/300 - 4s - loss: 0.0168 - accuracy: 0.9948 - val_loss: 0.0357 - val_accuracy: 0.9882 - 4s/epoch - 14ms/step\n",
      "Epoch 10/10\n",
      "300/300 - 4s - loss: 0.0140 - accuracy: 0.9959 - val_loss: 0.0392 - val_accuracy: 0.9874 - 4s/epoch - 14ms/step\n",
      "Accuracy: 0.9873999953269958 \n",
      " Error: 1.260000467300415\n"
     ]
    }
   ],
   "source": [
    "# build the model\n",
    "model = convolutional_model()\n",
    "\n",
    "# fit the model\n",
    "model.fit(X_train, y_train, validation_data=(X_test, y_test), epochs=10, batch_size=200, verbose=2)\n",
    "\n",
    "# evaluate the model\n",
    "scores = model.evaluate(X_test, y_test, verbose=0)\n",
    "print(\"Accuracy: {} \\n Error: {}\".format(scores[1], 100-scores[1]*100))"
   ]
  },
  {
   "cell_type": "markdown",
   "id": "bdadb672-3dd5-47c8-b2aa-b573faec12ab",
   "metadata": {},
   "source": [
    "------------------------------------------\n"
   ]
  },
  {
   "cell_type": "markdown",
   "id": "8346bc8d-b06d-4e59-ab6d-38ab51f7e3a2",
   "metadata": {},
   "source": [
    "## Convolutional Neural Network with Two Sets of Convolutional and Pooling Layers\n"
   ]
  },
  {
   "cell_type": "markdown",
   "id": "ed6adec1-b389-4d45-a94b-c3f378106a02",
   "metadata": {},
   "source": [
    "Let's redefine our convolutional model so that it has two convolutional and pooling layers instead of just one layer of each.\n"
   ]
  },
  {
   "cell_type": "code",
   "execution_count": 9,
   "id": "1238bc6e-7594-48f2-b239-83fd36c4838d",
   "metadata": {},
   "outputs": [],
   "source": [
    "def convolutional_model():\n",
    "    \n",
    "    # create model\n",
    "    model = Sequential()\n",
    "    model.add(Input(shape=(28, 28, 1)))\n",
    "    model.add(Conv2D(16, (5, 5), activation='relu'))\n",
    "    model.add(MaxPooling2D(pool_size=(2, 2), strides=(2, 2)))\n",
    "    \n",
    "    model.add(Conv2D(8, (2, 2), activation='relu'))\n",
    "    model.add(MaxPooling2D(pool_size=(2, 2), strides=(2, 2)))\n",
    "    \n",
    "    model.add(Flatten())\n",
    "    model.add(Dense(100, activation='relu'))\n",
    "    model.add(Dense(num_classes, activation='softmax'))\n",
    "    \n",
    "    # Compile model\n",
    "    model.compile(optimizer='adam', loss='categorical_crossentropy',  metrics=['accuracy'])\n",
    "    return model"
   ]
  },
  {
   "cell_type": "markdown",
   "id": "ad1e634f-0a4a-475b-95da-b6e322a83c46",
   "metadata": {},
   "source": [
    "Now, let's call the function to create our new convolutional neural network, and then let's train it and evaluate it.\n"
   ]
  },
  {
   "cell_type": "code",
   "execution_count": 10,
   "id": "3c0465aa-295a-49e7-92bb-050edb59e3df",
   "metadata": {},
   "outputs": [
    {
     "name": "stdout",
     "output_type": "stream",
     "text": [
      "Epoch 1/10\n",
      "300/300 - 6s - loss: 0.4896 - accuracy: 0.8605 - val_loss: 0.1352 - val_accuracy: 0.9599 - 6s/epoch - 20ms/step\n",
      "Epoch 2/10\n",
      "300/300 - 5s - loss: 0.1201 - accuracy: 0.9635 - val_loss: 0.0894 - val_accuracy: 0.9722 - 5s/epoch - 17ms/step\n",
      "Epoch 3/10\n",
      "300/300 - 5s - loss: 0.0891 - accuracy: 0.9732 - val_loss: 0.0675 - val_accuracy: 0.9778 - 5s/epoch - 16ms/step\n",
      "Epoch 4/10\n",
      "300/300 - 6s - loss: 0.0739 - accuracy: 0.9778 - val_loss: 0.0629 - val_accuracy: 0.9805 - 6s/epoch - 19ms/step\n",
      "Epoch 5/10\n",
      "300/300 - 6s - loss: 0.0652 - accuracy: 0.9803 - val_loss: 0.0541 - val_accuracy: 0.9825 - 6s/epoch - 19ms/step\n",
      "Epoch 6/10\n",
      "300/300 - 6s - loss: 0.0578 - accuracy: 0.9824 - val_loss: 0.0487 - val_accuracy: 0.9831 - 6s/epoch - 19ms/step\n",
      "Epoch 7/10\n",
      "300/300 - 5s - loss: 0.0520 - accuracy: 0.9842 - val_loss: 0.0452 - val_accuracy: 0.9852 - 5s/epoch - 18ms/step\n",
      "Epoch 8/10\n",
      "300/300 - 6s - loss: 0.0471 - accuracy: 0.9855 - val_loss: 0.0413 - val_accuracy: 0.9862 - 6s/epoch - 19ms/step\n",
      "Epoch 9/10\n",
      "300/300 - 6s - loss: 0.0424 - accuracy: 0.9866 - val_loss: 0.0389 - val_accuracy: 0.9868 - 6s/epoch - 19ms/step\n",
      "Epoch 10/10\n",
      "300/300 - 5s - loss: 0.0395 - accuracy: 0.9880 - val_loss: 0.0413 - val_accuracy: 0.9872 - 5s/epoch - 18ms/step\n",
      "Accuracy: 0.9872000217437744 \n",
      " Error: 1.2799978256225586\n"
     ]
    }
   ],
   "source": [
    "# build the model\n",
    "model = convolutional_model()\n",
    "\n",
    "# fit the model\n",
    "model.fit(X_train, y_train, validation_data=(X_test, y_test), epochs=10, batch_size=200, verbose=2)\n",
    "\n",
    "# evaluate the model\n",
    "scores = model.evaluate(X_test, y_test, verbose=0)\n",
    "print(\"Accuracy: {} \\n Error: {}\".format(scores[1], 100-scores[1]*100))"
   ]
  },
  {
   "cell_type": "markdown",
   "id": "1461351b-e85e-431a-94f7-7a803ad091f0",
   "metadata": {},
   "source": [
    "<h3>Practice Exercise 1</h3>\n"
   ]
  },
  {
   "cell_type": "markdown",
   "id": "b552fc94-0831-4569-bc0e-c5b9b153b70d",
   "metadata": {},
   "source": [
    "Let's see how batch size affects the time required and accuracy of the model training. \n",
    "For this, you can try to change batch_size to 1024 and check it's effect on accuracy\n"
   ]
  },
  {
   "cell_type": "code",
   "execution_count": 15,
   "id": "f01355d9-0484-4b16-8419-fd6e64640806",
   "metadata": {},
   "outputs": [],
   "source": [
    "# Write your answer here\n",
    "def CNNmodel():\n",
    "    model = Sequential()\n",
    "    model.add(Conv2D(16, (5,5), strides=(1,1), activation='relu'))\n",
    "    model.add(MaxPooling2D((2,2), strides=(1,1)))\n",
    "    model.add(Conv2D(8, (3,3), strides=(1,1), activation='relu'))\n",
    "    model.add(MaxPooling2D((2,2), strides=(1,1)))\n",
    "    model.add(Flatten())\n",
    "    model.add(Dense(100, activation='relu'))\n",
    "    model.add(Dense(num_classes, activation='softmax'))\n",
    "\n",
    "    model.compile(optimizer='adam', loss='categorical_crossentropy', metrics=['accuracy'])\n",
    "    return model"
   ]
  },
  {
   "cell_type": "code",
   "execution_count": 16,
   "metadata": {},
   "outputs": [
    {
     "name": "stdout",
     "output_type": "stream",
     "text": [
      "Epoch 1/10\n",
      "300/300 - 11s - loss: 0.2159 - accuracy: 0.9375 - val_loss: 0.0714 - val_accuracy: 0.9788 - 11s/epoch - 37ms/step\n",
      "Epoch 2/10\n",
      "300/300 - 11s - loss: 0.0652 - accuracy: 0.9797 - val_loss: 0.0502 - val_accuracy: 0.9840 - 11s/epoch - 37ms/step\n",
      "Epoch 3/10\n",
      "300/300 - 12s - loss: 0.0461 - accuracy: 0.9856 - val_loss: 0.0363 - val_accuracy: 0.9884 - 12s/epoch - 40ms/step\n",
      "Epoch 4/10\n",
      "300/300 - 12s - loss: 0.0367 - accuracy: 0.9885 - val_loss: 0.0371 - val_accuracy: 0.9881 - 12s/epoch - 41ms/step\n",
      "Epoch 5/10\n",
      "300/300 - 13s - loss: 0.0287 - accuracy: 0.9913 - val_loss: 0.0365 - val_accuracy: 0.9876 - 13s/epoch - 42ms/step\n",
      "Epoch 6/10\n",
      "300/300 - 12s - loss: 0.0242 - accuracy: 0.9922 - val_loss: 0.0366 - val_accuracy: 0.9882 - 12s/epoch - 41ms/step\n",
      "Epoch 7/10\n",
      "300/300 - 12s - loss: 0.0196 - accuracy: 0.9939 - val_loss: 0.0301 - val_accuracy: 0.9896 - 12s/epoch - 40ms/step\n",
      "Epoch 8/10\n",
      "300/300 - 12s - loss: 0.0169 - accuracy: 0.9948 - val_loss: 0.0320 - val_accuracy: 0.9900 - 12s/epoch - 40ms/step\n",
      "Epoch 9/10\n",
      "300/300 - 12s - loss: 0.0137 - accuracy: 0.9957 - val_loss: 0.0286 - val_accuracy: 0.9903 - 12s/epoch - 40ms/step\n",
      "Epoch 10/10\n",
      "300/300 - 12s - loss: 0.0139 - accuracy: 0.9955 - val_loss: 0.0360 - val_accuracy: 0.9902 - 12s/epoch - 40ms/step\n",
      "313/313 [==============================] - 2s 5ms/step - loss: 0.0360 - accuracy: 0.9902\n",
      "The accuracy is 99.01999831199646%\n",
      "The error is 0.98000168800354%\n"
     ]
    }
   ],
   "source": [
    "model = CNNmodel()\n",
    "model.fit(X_train, y_train, validation_data=(X_test, y_test), batch_size=200, epochs= 10, verbose=2)\n",
    "\n",
    "score = model.evaluate(X_test, y_test)\n",
    "\n",
    "print(f\"The accuracy is {score[1] *100}%\")\n",
    "print(f\"The error is {(1 - score[1]) * 100}%\")"
   ]
  },
  {
   "cell_type": "markdown",
   "id": "5bb6cc35-d6d9-4d82-97ff-44f59a729e0f",
   "metadata": {},
   "source": [
    "Double-click <b>here</b> for the solution.\n",
    "\n",
    "<!-- Your answer is below:\n",
    "# build the model\n",
    "model = convolutional_model()\n",
    "\n",
    "# fit the model\n",
    "model.fit(X_train, y_train, validation_data=(X_test, y_test), epochs=10, batch_size=1024, verbose=2)\n",
    "\n",
    "# evaluate the model\n",
    "scores = model.evaluate(X_test, y_test, verbose=0)\n",
    "print(\"Accuracy: {} \\n Error: {}\".format(scores[1], 100-scores[1]*100))\n",
    "-->\n"
   ]
  },
  {
   "cell_type": "markdown",
   "id": "2a03ad9b-825d-47ae-be77-e3bf1885c08e",
   "metadata": {},
   "source": [
    "<h3>Practice Exercise 2</h3>\n"
   ]
  },
  {
   "cell_type": "markdown",
   "id": "5989a3e9-0d9c-4769-a33d-fc22447a82bd",
   "metadata": {},
   "source": [
    "Now, let's see how number of epochs  affect the time required and accuracy of the model training. \n",
    "For this, you can keep the batch_size=1024 and epochs=25 and check it's effect on accuracy\n"
   ]
  },
  {
   "cell_type": "code",
   "execution_count": 17,
   "id": "f9e95cec-0929-4e21-82f2-88b829c59460",
   "metadata": {},
   "outputs": [
    {
     "name": "stdout",
     "output_type": "stream",
     "text": [
      "Epoch 1/25\n",
      "59/59 - 14s - loss: 0.5327 - accuracy: 0.8536 - val_loss: 0.1633 - val_accuracy: 0.9519 - 14s/epoch - 244ms/step\n",
      "Epoch 2/25\n",
      "59/59 - 11s - loss: 0.1288 - accuracy: 0.9623 - val_loss: 0.0918 - val_accuracy: 0.9735 - 11s/epoch - 190ms/step\n",
      "Epoch 3/25\n",
      "59/59 - 11s - loss: 0.0841 - accuracy: 0.9746 - val_loss: 0.0614 - val_accuracy: 0.9805 - 11s/epoch - 188ms/step\n",
      "Epoch 4/25\n",
      "59/59 - 11s - loss: 0.0650 - accuracy: 0.9803 - val_loss: 0.0539 - val_accuracy: 0.9830 - 11s/epoch - 189ms/step\n",
      "Epoch 5/25\n",
      "59/59 - 11s - loss: 0.0532 - accuracy: 0.9840 - val_loss: 0.0435 - val_accuracy: 0.9851 - 11s/epoch - 189ms/step\n",
      "Epoch 6/25\n",
      "59/59 - 11s - loss: 0.0474 - accuracy: 0.9856 - val_loss: 0.0408 - val_accuracy: 0.9863 - 11s/epoch - 190ms/step\n",
      "Epoch 7/25\n",
      "59/59 - 11s - loss: 0.0417 - accuracy: 0.9874 - val_loss: 0.0476 - val_accuracy: 0.9844 - 11s/epoch - 192ms/step\n",
      "Epoch 8/25\n",
      "59/59 - 11s - loss: 0.0368 - accuracy: 0.9886 - val_loss: 0.0369 - val_accuracy: 0.9867 - 11s/epoch - 191ms/step\n",
      "Epoch 9/25\n",
      "59/59 - 11s - loss: 0.0338 - accuracy: 0.9901 - val_loss: 0.0342 - val_accuracy: 0.9882 - 11s/epoch - 194ms/step\n",
      "Epoch 10/25\n",
      "59/59 - 11s - loss: 0.0300 - accuracy: 0.9911 - val_loss: 0.0336 - val_accuracy: 0.9878 - 11s/epoch - 192ms/step\n",
      "Epoch 11/25\n",
      "59/59 - 11s - loss: 0.0271 - accuracy: 0.9914 - val_loss: 0.0323 - val_accuracy: 0.9891 - 11s/epoch - 195ms/step\n",
      "Epoch 12/25\n",
      "59/59 - 12s - loss: 0.0242 - accuracy: 0.9927 - val_loss: 0.0296 - val_accuracy: 0.9904 - 12s/epoch - 196ms/step\n",
      "Epoch 13/25\n",
      "59/59 - 11s - loss: 0.0238 - accuracy: 0.9929 - val_loss: 0.0363 - val_accuracy: 0.9876 - 11s/epoch - 193ms/step\n",
      "Epoch 14/25\n",
      "59/59 - 11s - loss: 0.0222 - accuracy: 0.9930 - val_loss: 0.0303 - val_accuracy: 0.9901 - 11s/epoch - 193ms/step\n",
      "Epoch 15/25\n",
      "59/59 - 11s - loss: 0.0181 - accuracy: 0.9946 - val_loss: 0.0324 - val_accuracy: 0.9893 - 11s/epoch - 193ms/step\n",
      "Epoch 16/25\n",
      "59/59 - 11s - loss: 0.0167 - accuracy: 0.9949 - val_loss: 0.0328 - val_accuracy: 0.9892 - 11s/epoch - 192ms/step\n",
      "Epoch 17/25\n",
      "59/59 - 11s - loss: 0.0167 - accuracy: 0.9948 - val_loss: 0.0309 - val_accuracy: 0.9908 - 11s/epoch - 193ms/step\n",
      "Epoch 18/25\n",
      "59/59 - 11s - loss: 0.0140 - accuracy: 0.9957 - val_loss: 0.0302 - val_accuracy: 0.9898 - 11s/epoch - 193ms/step\n",
      "Epoch 19/25\n",
      "59/59 - 11s - loss: 0.0116 - accuracy: 0.9969 - val_loss: 0.0306 - val_accuracy: 0.9904 - 11s/epoch - 192ms/step\n",
      "Epoch 20/25\n",
      "59/59 - 11s - loss: 0.0114 - accuracy: 0.9968 - val_loss: 0.0265 - val_accuracy: 0.9911 - 11s/epoch - 194ms/step\n",
      "Epoch 21/25\n",
      "59/59 - 11s - loss: 0.0105 - accuracy: 0.9972 - val_loss: 0.0328 - val_accuracy: 0.9901 - 11s/epoch - 192ms/step\n",
      "Epoch 22/25\n",
      "59/59 - 11s - loss: 0.0094 - accuracy: 0.9973 - val_loss: 0.0304 - val_accuracy: 0.9908 - 11s/epoch - 194ms/step\n",
      "Epoch 23/25\n",
      "59/59 - 12s - loss: 0.0092 - accuracy: 0.9976 - val_loss: 0.0306 - val_accuracy: 0.9908 - 12s/epoch - 202ms/step\n",
      "Epoch 24/25\n",
      "59/59 - 12s - loss: 0.0085 - accuracy: 0.9975 - val_loss: 0.0308 - val_accuracy: 0.9905 - 12s/epoch - 197ms/step\n",
      "Epoch 25/25\n",
      "59/59 - 12s - loss: 0.0072 - accuracy: 0.9982 - val_loss: 0.0338 - val_accuracy: 0.9902 - 12s/epoch - 197ms/step\n",
      "313/313 [==============================] - 2s 5ms/step - loss: 0.0338 - accuracy: 0.9902\n",
      "The accuracy is 99.01999831199646%\n",
      "The error is 0.98000168800354%\n"
     ]
    }
   ],
   "source": [
    "# Write your answer here\n",
    "\n",
    "model = CNNmodel()\n",
    "\n",
    "model.fit(X_train, y_train, batch_size=1024, epochs=25, validation_data=(X_test, y_test), verbose=2)\n",
    "score = model.evaluate(X_test, y_test)\n",
    "\n",
    "print(f\"The accuracy is {score[1] *100}%\")\n",
    "print(f\"The error is {(1 - score[1]) * 100}%\")"
   ]
  },
  {
   "cell_type": "markdown",
   "id": "51c6e6da-7d0d-4090-9fb8-98f22d051bdb",
   "metadata": {},
   "source": [
    "Double-click <b>here</b> for the solution.\n",
    "\n",
    "<!-- Your answer is below:\n",
    "# build the model\n",
    "model = convolutional_model()\n",
    "\n",
    "# fit the model\n",
    "model.fit(X_train, y_train, validation_data=(X_test, y_test), epochs=25, batch_size=1024, verbose=2)\n",
    "\n",
    "# evaluate the model\n",
    "scores = model.evaluate(X_test, y_test, verbose=0)\n",
    "print(\"Accuracy: {} \\n Error: {}\".format(scores[1], 100-scores[1]*100))\n",
    "\n",
    "\n",
    "    -->\n"
   ]
  },
  {
   "cell_type": "markdown",
   "id": "844cc9d3-9e42-433a-9767-c03f0c1eb77d",
   "metadata": {},
   "source": [
    "### Thank you for completing this lab!\n",
    "\n",
    "This notebook was created by [Alex Aklson](https://www.linkedin.com/in/aklson/). I hope you found this lab interesting and educational. Feel free to contact me if you have any questions!\n"
   ]
  },
  {
   "cell_type": "markdown",
   "id": "5e3e2e36-9537-40c4-80bc-24e056e0b3c0",
   "metadata": {},
   "source": [
    "<!--\n",
    "## Change Log\n",
    "\n",
    "|  Date (YYYY-MM-DD) |  Version | Changed By  |  Change Description |\n",
    "|---|---|---|---|\n",
    "| 2024-11-20  | 3.0  | Aman  |  Updated the library versions to current |\n",
    "| 2020-09-21  | 2.0  | Srishti  |  Migrated Lab to Markdown and added to course repo in GitLab |\n",
    "\n",
    "\n",
    "\n",
    "<hr>\n",
    "\n",
    "## <h3 align=\"center\"> © IBM Corporation. All rights reserved. <h3/>\n"
   ]
  },
  {
   "cell_type": "markdown",
   "id": "ab20d78f-6c72-4aad-b35d-e2e770c39d5e",
   "metadata": {},
   "source": [
    "## <h3 align=\"center\"> &#169; IBM Corporation. All rights reserved. <h3/>\n",
    "\n"
   ]
  }
 ],
 "metadata": {
  "kernelspec": {
   "display_name": "Python 3",
   "language": "python",
   "name": "python3"
  },
  "language_info": {
   "codemirror_mode": {
    "name": "ipython",
    "version": 3
   },
   "file_extension": ".py",
   "mimetype": "text/x-python",
   "name": "python",
   "nbconvert_exporter": "python",
   "pygments_lexer": "ipython3",
   "version": "3.11.9"
  },
  "prev_pub_hash": "cf25684b5f40b85f8cce20a89cf822f405779387881f3fd281fbe1317debe407"
 },
 "nbformat": 4,
 "nbformat_minor": 4
}
