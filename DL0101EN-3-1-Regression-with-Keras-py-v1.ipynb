{
 "cells": [
  {
   "cell_type": "markdown",
   "id": "1eda0f65-4088-4f5d-81fb-54c922d717fe",
   "metadata": {},
   "source": [
    "<a href=\"https://cognitiveclass.ai\"><img src=\"https://cf-courses-data.s3.us.cloud-object-storage.appdomain.cloud/IBMDeveloperSkillsNetwork-DL0101EN-SkillsNetwork/images/IDSN-logo.png\" width=\"400\"> </a>\n",
    "\n",
    "# Regression Models with Keras\n",
    "\n",
    "Estimated time needed: **45** mins\n"
   ]
  },
  {
   "cell_type": "markdown",
   "id": "56de949e-2f07-4bfc-b596-66c4dbc3ad08",
   "metadata": {},
   "source": [
    "## Introduction\n"
   ]
  },
  {
   "cell_type": "markdown",
   "id": "40c8c644-1745-44f1-ac92-417fcfd89e91",
   "metadata": {},
   "source": [
    "As we discussed in the videos, despite the popularity of more powerful libraries such as PyToch and TensorFlow, they are not easy to use and have a steep learning curve. So, for people who are just starting to learn deep learning, there is no better library to use other than the Keras library. \n",
    "\n",
    "Keras is a high-level API for building deep learning models. It has gained favor for its ease of use and syntactic simplicity facilitating fast development. As you will see in this lab and the other labs in this course, building a very complex deep learning network can be achieved with Keras with only few lines of code. You will appreciate Keras even more, once you learn how to build deep models using PyTorch and TensorFlow in the other courses.\n",
    "\n",
    "So, in this lab, you will learn how to use the Keras library to build a regression model.\n"
   ]
  },
  {
   "cell_type": "markdown",
   "id": "00495c9e-f515-4a70-a3eb-b56a7025cfe1",
   "metadata": {},
   "source": [
    "## Objectives for this Notebook    \n",
    "* How to use the Keras library to build a regression model\n",
    "* Download and clean the data set\n",
    "* Build a neural network\n",
    "* Train and test the network     \n",
    "\n"
   ]
  },
  {
   "cell_type": "markdown",
   "id": "926d0b44-e9c9-4fb0-9d79-1dedf08b7548",
   "metadata": {},
   "source": [
    "## Table of Contents\n",
    "\n",
    "<div class=\"alert alert-block alert-info\" style=\"margin-top: 20px\">\n",
    "\n",
    "<font size = 3>\n",
    "    \n",
    "1. <a href=\"#item31\">Download and Clean the Data Set</a>  \n",
    "2. <a href=\"#item32\">Import Keras Packages</a>\n",
    "3. <a href=\"#item33\">Build a Neural Network</a>\n",
    "4. <a href=\"#item34\">Train and Test the Network</a>  \n",
    "\n",
    "</font>\n",
    "</div>\n"
   ]
  },
  {
   "cell_type": "markdown",
   "id": "c1949bf5-8eee-4e63-ae62-d78212d3e710",
   "metadata": {},
   "source": [
    "<a id=\"item31\"></a>\n"
   ]
  },
  {
   "cell_type": "markdown",
   "id": "44711dc8-f383-431f-9704-c403df1bd032",
   "metadata": {},
   "source": [
    "## Download and Clean the  Data Set\n"
   ]
  },
  {
   "cell_type": "markdown",
   "id": "9d5804de-a405-42b7-8383-5e9f9a98410e",
   "metadata": {},
   "source": [
    "Let's start by importing the <em>pandas</em> and the Numpy libraries.\n"
   ]
  },
  {
   "cell_type": "code",
   "execution_count": 2,
   "id": "17c66237-b921-4ba6-ae65-b42b07b42008",
   "metadata": {},
   "outputs": [
    {
     "name": "stdout",
     "output_type": "stream",
     "text": [
      "Collecting numpy==2.0.2\n",
      "  Using cached numpy-2.0.2-cp311-cp311-win_amd64.whl.metadata (59 kB)\n",
      "Using cached numpy-2.0.2-cp311-cp311-win_amd64.whl (15.9 MB)\n",
      "Installing collected packages: numpy\n",
      "  Attempting uninstall: numpy\n",
      "    Found existing installation: numpy 1.26.4\n",
      "    Uninstalling numpy-1.26.4:\n",
      "      Successfully uninstalled numpy-1.26.4\n",
      "Successfully installed numpy-2.0.2\n"
     ]
    },
    {
     "name": "stderr",
     "output_type": "stream",
     "text": [
      "ERROR: pip's dependency resolver does not currently take into account all the packages that are installed. This behaviour is the source of the following dependency conflicts.\n",
      "langchain 0.1.16 requires numpy<2,>=1, but you have numpy 2.0.2 which is incompatible.\n",
      "langchain-community 0.0.38 requires numpy<2,>=1, but you have numpy 2.0.2 which is incompatible.\n",
      "tensorflow-intel 2.16.2 requires ml-dtypes~=0.3.1, but you have ml-dtypes 0.5.3 which is incompatible.\n",
      "tensorflow-intel 2.16.2 requires numpy<2.0.0,>=1.23.5; python_version <= \"3.11\", but you have numpy 2.0.2 which is incompatible.\n",
      "tensorflow-intel 2.16.2 requires protobuf!=4.21.0,!=4.21.1,!=4.21.2,!=4.21.3,!=4.21.4,!=4.21.5,<5.0.0dev,>=3.20.3, but you have protobuf 6.32.1 which is incompatible.\n",
      "tensorflow-intel 2.16.2 requires tensorboard<2.17,>=2.16, but you have tensorboard 2.20.0 which is incompatible.\n"
     ]
    },
    {
     "name": "stdout",
     "output_type": "stream",
     "text": [
      "Requirement already satisfied: pandas==2.2.2 in c:\\users\\temiloluwa oloye\\appdata\\local\\packages\\pythonsoftwarefoundation.python.3.11_qbz5n2kfra8p0\\localcache\\local-packages\\python311\\site-packages (2.2.2)\n",
      "Requirement already satisfied: numpy>=1.23.2 in c:\\users\\temiloluwa oloye\\appdata\\local\\packages\\pythonsoftwarefoundation.python.3.11_qbz5n2kfra8p0\\localcache\\local-packages\\python311\\site-packages (from pandas==2.2.2) (2.0.2)\n",
      "Requirement already satisfied: python-dateutil>=2.8.2 in c:\\users\\temiloluwa oloye\\appdata\\local\\packages\\pythonsoftwarefoundation.python.3.11_qbz5n2kfra8p0\\localcache\\local-packages\\python311\\site-packages (from pandas==2.2.2) (2.9.0.post0)\n",
      "Requirement already satisfied: pytz>=2020.1 in c:\\users\\temiloluwa oloye\\appdata\\local\\packages\\pythonsoftwarefoundation.python.3.11_qbz5n2kfra8p0\\localcache\\local-packages\\python311\\site-packages (from pandas==2.2.2) (2024.2)\n",
      "Requirement already satisfied: tzdata>=2022.7 in c:\\users\\temiloluwa oloye\\appdata\\local\\packages\\pythonsoftwarefoundation.python.3.11_qbz5n2kfra8p0\\localcache\\local-packages\\python311\\site-packages (from pandas==2.2.2) (2024.1)\n",
      "Requirement already satisfied: six>=1.5 in c:\\users\\temiloluwa oloye\\appdata\\local\\packages\\pythonsoftwarefoundation.python.3.11_qbz5n2kfra8p0\\localcache\\local-packages\\python311\\site-packages (from python-dateutil>=2.8.2->pandas==2.2.2) (1.17.0)\n",
      "Collecting tensorflow_cpu==2.18.0\n",
      "  Downloading tensorflow_cpu-2.18.0-cp311-cp311-win_amd64.whl.metadata (3.3 kB)\n",
      "INFO: pip is looking at multiple versions of tensorflow-cpu to determine which version is compatible with other requirements. This could take a while.\n"
     ]
    },
    {
     "name": "stderr",
     "output_type": "stream",
     "text": [
      "ERROR: Could not find a version that satisfies the requirement tensorflow-intel==2.18.0; platform_system == \"Windows\" (from tensorflow-cpu) (from versions: none)\n",
      "ERROR: No matching distribution found for tensorflow-intel==2.18.0; platform_system == \"Windows\"\n"
     ]
    }
   ],
   "source": [
    "# All Libraries required for this lab are listed below. The libraries pre-installed on Skills Network Labs are commented. \n",
    "# If you run this notebook on a different environment, e.g. your desktop, you may need to uncomment and install certain libraries.\n",
    "!pip install numpy==2.0.2\n",
    "!pip install pandas==2.2.2\n",
    "!pip install tensorflow_cpu==2.18.0\n"
   ]
  },
  {
   "cell_type": "markdown",
   "id": "f8455537-0a49-41bd-8cc6-db5cb77401b6",
   "metadata": {},
   "source": [
    "##### To use Keras, you will also need to install a backend framework – such as TensorFlow.\n",
    "\n",
    "If you install TensorFlow 2.16 or above, it will install Keras by default.\n",
    "\n",
    "We are using the CPU version of tensorflow since we are dealing with smaller datasets. \n",
    "You may install the GPU version of tensorflow on your machine to accelarate the processing of larger datasets\n"
   ]
  },
  {
   "cell_type": "code",
   "execution_count": 1,
   "id": "32f50378-a0d4-447d-909f-bc75d88df8b8",
   "metadata": {},
   "outputs": [
    {
     "name": "stdout",
     "output_type": "stream",
     "text": [
      "WARNING:tensorflow:From C:\\Users\\Temiloluwa Oloye\\AppData\\Local\\Packages\\PythonSoftwareFoundation.Python.3.11_qbz5n2kfra8p0\\LocalCache\\local-packages\\Python311\\site-packages\\keras\\src\\losses.py:2976: The name tf.losses.sparse_softmax_cross_entropy is deprecated. Please use tf.compat.v1.losses.sparse_softmax_cross_entropy instead.\n",
      "\n"
     ]
    }
   ],
   "source": [
    "import pandas as pd\n",
    "import numpy as np\n",
    "import keras\n",
    "\n",
    "import warnings\n",
    "warnings.simplefilter('ignore', FutureWarning)"
   ]
  },
  {
   "cell_type": "markdown",
   "id": "28470001-211a-4270-a742-32e4bdc239bc",
   "metadata": {},
   "source": [
    "We will be playing around with the same dataset that we used in the videos.\n",
    "\n",
    "<strong>The dataset is about the compressive strength of different samples of concrete based on the volumes of the different ingredients that were used to make them. Ingredients include:</strong>\n",
    "\n",
    "* Cement\n",
    "* Blast furnace slag\n",
    "* Fly ash\n",
    "* Water\n",
    "* Superplasticizer\n",
    "* Coarse aggregate\n",
    "* Fine aggregate\n"
   ]
  },
  {
   "cell_type": "markdown",
   "id": "ae54918e-64e4-40c3-8738-122870ef7c10",
   "metadata": {},
   "source": [
    "Let's download the data and read it into a <em>pandas</em> dataframe.\n"
   ]
  },
  {
   "cell_type": "code",
   "execution_count": 2,
   "id": "5f1e26e4-268b-4fe2-8538-688611b57561",
   "metadata": {},
   "outputs": [
    {
     "data": {
      "text/html": [
       "<div>\n",
       "<style scoped>\n",
       "    .dataframe tbody tr th:only-of-type {\n",
       "        vertical-align: middle;\n",
       "    }\n",
       "\n",
       "    .dataframe tbody tr th {\n",
       "        vertical-align: top;\n",
       "    }\n",
       "\n",
       "    .dataframe thead th {\n",
       "        text-align: right;\n",
       "    }\n",
       "</style>\n",
       "<table border=\"1\" class=\"dataframe\">\n",
       "  <thead>\n",
       "    <tr style=\"text-align: right;\">\n",
       "      <th></th>\n",
       "      <th>Cement</th>\n",
       "      <th>Blast Furnace Slag</th>\n",
       "      <th>Fly Ash</th>\n",
       "      <th>Water</th>\n",
       "      <th>Superplasticizer</th>\n",
       "      <th>Coarse Aggregate</th>\n",
       "      <th>Fine Aggregate</th>\n",
       "      <th>Age</th>\n",
       "      <th>Strength</th>\n",
       "    </tr>\n",
       "  </thead>\n",
       "  <tbody>\n",
       "    <tr>\n",
       "      <th>0</th>\n",
       "      <td>540.0</td>\n",
       "      <td>0.0</td>\n",
       "      <td>0.0</td>\n",
       "      <td>162.0</td>\n",
       "      <td>2.5</td>\n",
       "      <td>1040.0</td>\n",
       "      <td>676.0</td>\n",
       "      <td>28</td>\n",
       "      <td>79.99</td>\n",
       "    </tr>\n",
       "    <tr>\n",
       "      <th>1</th>\n",
       "      <td>540.0</td>\n",
       "      <td>0.0</td>\n",
       "      <td>0.0</td>\n",
       "      <td>162.0</td>\n",
       "      <td>2.5</td>\n",
       "      <td>1055.0</td>\n",
       "      <td>676.0</td>\n",
       "      <td>28</td>\n",
       "      <td>61.89</td>\n",
       "    </tr>\n",
       "    <tr>\n",
       "      <th>2</th>\n",
       "      <td>332.5</td>\n",
       "      <td>142.5</td>\n",
       "      <td>0.0</td>\n",
       "      <td>228.0</td>\n",
       "      <td>0.0</td>\n",
       "      <td>932.0</td>\n",
       "      <td>594.0</td>\n",
       "      <td>270</td>\n",
       "      <td>40.27</td>\n",
       "    </tr>\n",
       "    <tr>\n",
       "      <th>3</th>\n",
       "      <td>332.5</td>\n",
       "      <td>142.5</td>\n",
       "      <td>0.0</td>\n",
       "      <td>228.0</td>\n",
       "      <td>0.0</td>\n",
       "      <td>932.0</td>\n",
       "      <td>594.0</td>\n",
       "      <td>365</td>\n",
       "      <td>41.05</td>\n",
       "    </tr>\n",
       "    <tr>\n",
       "      <th>4</th>\n",
       "      <td>198.6</td>\n",
       "      <td>132.4</td>\n",
       "      <td>0.0</td>\n",
       "      <td>192.0</td>\n",
       "      <td>0.0</td>\n",
       "      <td>978.4</td>\n",
       "      <td>825.5</td>\n",
       "      <td>360</td>\n",
       "      <td>44.30</td>\n",
       "    </tr>\n",
       "  </tbody>\n",
       "</table>\n",
       "</div>"
      ],
      "text/plain": [
       "   Cement  Blast Furnace Slag  Fly Ash  Water  Superplasticizer  \\\n",
       "0   540.0                 0.0      0.0  162.0               2.5   \n",
       "1   540.0                 0.0      0.0  162.0               2.5   \n",
       "2   332.5               142.5      0.0  228.0               0.0   \n",
       "3   332.5               142.5      0.0  228.0               0.0   \n",
       "4   198.6               132.4      0.0  192.0               0.0   \n",
       "\n",
       "   Coarse Aggregate  Fine Aggregate  Age  Strength  \n",
       "0            1040.0           676.0   28     79.99  \n",
       "1            1055.0           676.0   28     61.89  \n",
       "2             932.0           594.0  270     40.27  \n",
       "3             932.0           594.0  365     41.05  \n",
       "4             978.4           825.5  360     44.30  "
      ]
     },
     "execution_count": 2,
     "metadata": {},
     "output_type": "execute_result"
    }
   ],
   "source": [
    "filepath='https://s3-api.us-geo.objectstorage.softlayer.net/cf-courses-data/CognitiveClass/DL0101EN/labs/data/concrete_data.csv'\n",
    "concrete_data = pd.read_csv(filepath)\n",
    "\n",
    "concrete_data.head()"
   ]
  },
  {
   "cell_type": "markdown",
   "id": "40b04058-b925-47ae-a94a-23dddfc34166",
   "metadata": {},
   "source": [
    "So the first concrete sample has 540 cubic meter of cement, 0 cubic meter of blast furnace slag, 0 cubic meter of fly ash, 162 cubic meter of water, 2.5 cubic meter of superplaticizer, 1040 cubic meter of coarse aggregate, 676 cubic meter of fine aggregate. Such a concrete mix which is 28 days old, has a compressive strength of 79.99 MPa. \n"
   ]
  },
  {
   "cell_type": "markdown",
   "id": "c7ff2456-5852-4abe-aa36-b480f56c803a",
   "metadata": {},
   "source": [
    "#### Let's check how many data points we have\n"
   ]
  },
  {
   "cell_type": "code",
   "execution_count": 3,
   "id": "954b6e9a-5b70-44a9-aed4-dab6bbc42230",
   "metadata": {},
   "outputs": [
    {
     "data": {
      "text/plain": [
       "(1030, 9)"
      ]
     },
     "execution_count": 3,
     "metadata": {},
     "output_type": "execute_result"
    }
   ],
   "source": [
    "concrete_data.shape"
   ]
  },
  {
   "cell_type": "markdown",
   "id": "a2e3375b-0821-4822-b928-b40ad2575882",
   "metadata": {},
   "source": [
    "So, there are approximately 1000 samples to train our model on. Because of the few samples, we have to be careful not to overfit the training data.\n"
   ]
  },
  {
   "cell_type": "markdown",
   "id": "1f842f64-3b47-49aa-b64e-5b22f4b31c46",
   "metadata": {},
   "source": [
    "Let's check the dataset for any missing values.\n"
   ]
  },
  {
   "cell_type": "code",
   "execution_count": 4,
   "id": "c6bb2a79-be5a-49b8-9b3b-f98a0b95855c",
   "metadata": {},
   "outputs": [
    {
     "data": {
      "text/html": [
       "<div>\n",
       "<style scoped>\n",
       "    .dataframe tbody tr th:only-of-type {\n",
       "        vertical-align: middle;\n",
       "    }\n",
       "\n",
       "    .dataframe tbody tr th {\n",
       "        vertical-align: top;\n",
       "    }\n",
       "\n",
       "    .dataframe thead th {\n",
       "        text-align: right;\n",
       "    }\n",
       "</style>\n",
       "<table border=\"1\" class=\"dataframe\">\n",
       "  <thead>\n",
       "    <tr style=\"text-align: right;\">\n",
       "      <th></th>\n",
       "      <th>Cement</th>\n",
       "      <th>Blast Furnace Slag</th>\n",
       "      <th>Fly Ash</th>\n",
       "      <th>Water</th>\n",
       "      <th>Superplasticizer</th>\n",
       "      <th>Coarse Aggregate</th>\n",
       "      <th>Fine Aggregate</th>\n",
       "      <th>Age</th>\n",
       "      <th>Strength</th>\n",
       "    </tr>\n",
       "  </thead>\n",
       "  <tbody>\n",
       "    <tr>\n",
       "      <th>count</th>\n",
       "      <td>1030.000000</td>\n",
       "      <td>1030.000000</td>\n",
       "      <td>1030.000000</td>\n",
       "      <td>1030.000000</td>\n",
       "      <td>1030.000000</td>\n",
       "      <td>1030.000000</td>\n",
       "      <td>1030.000000</td>\n",
       "      <td>1030.000000</td>\n",
       "      <td>1030.000000</td>\n",
       "    </tr>\n",
       "    <tr>\n",
       "      <th>mean</th>\n",
       "      <td>281.167864</td>\n",
       "      <td>73.895825</td>\n",
       "      <td>54.188350</td>\n",
       "      <td>181.567282</td>\n",
       "      <td>6.204660</td>\n",
       "      <td>972.918932</td>\n",
       "      <td>773.580485</td>\n",
       "      <td>45.662136</td>\n",
       "      <td>35.817961</td>\n",
       "    </tr>\n",
       "    <tr>\n",
       "      <th>std</th>\n",
       "      <td>104.506364</td>\n",
       "      <td>86.279342</td>\n",
       "      <td>63.997004</td>\n",
       "      <td>21.354219</td>\n",
       "      <td>5.973841</td>\n",
       "      <td>77.753954</td>\n",
       "      <td>80.175980</td>\n",
       "      <td>63.169912</td>\n",
       "      <td>16.705742</td>\n",
       "    </tr>\n",
       "    <tr>\n",
       "      <th>min</th>\n",
       "      <td>102.000000</td>\n",
       "      <td>0.000000</td>\n",
       "      <td>0.000000</td>\n",
       "      <td>121.800000</td>\n",
       "      <td>0.000000</td>\n",
       "      <td>801.000000</td>\n",
       "      <td>594.000000</td>\n",
       "      <td>1.000000</td>\n",
       "      <td>2.330000</td>\n",
       "    </tr>\n",
       "    <tr>\n",
       "      <th>25%</th>\n",
       "      <td>192.375000</td>\n",
       "      <td>0.000000</td>\n",
       "      <td>0.000000</td>\n",
       "      <td>164.900000</td>\n",
       "      <td>0.000000</td>\n",
       "      <td>932.000000</td>\n",
       "      <td>730.950000</td>\n",
       "      <td>7.000000</td>\n",
       "      <td>23.710000</td>\n",
       "    </tr>\n",
       "    <tr>\n",
       "      <th>50%</th>\n",
       "      <td>272.900000</td>\n",
       "      <td>22.000000</td>\n",
       "      <td>0.000000</td>\n",
       "      <td>185.000000</td>\n",
       "      <td>6.400000</td>\n",
       "      <td>968.000000</td>\n",
       "      <td>779.500000</td>\n",
       "      <td>28.000000</td>\n",
       "      <td>34.445000</td>\n",
       "    </tr>\n",
       "    <tr>\n",
       "      <th>75%</th>\n",
       "      <td>350.000000</td>\n",
       "      <td>142.950000</td>\n",
       "      <td>118.300000</td>\n",
       "      <td>192.000000</td>\n",
       "      <td>10.200000</td>\n",
       "      <td>1029.400000</td>\n",
       "      <td>824.000000</td>\n",
       "      <td>56.000000</td>\n",
       "      <td>46.135000</td>\n",
       "    </tr>\n",
       "    <tr>\n",
       "      <th>max</th>\n",
       "      <td>540.000000</td>\n",
       "      <td>359.400000</td>\n",
       "      <td>200.100000</td>\n",
       "      <td>247.000000</td>\n",
       "      <td>32.200000</td>\n",
       "      <td>1145.000000</td>\n",
       "      <td>992.600000</td>\n",
       "      <td>365.000000</td>\n",
       "      <td>82.600000</td>\n",
       "    </tr>\n",
       "  </tbody>\n",
       "</table>\n",
       "</div>"
      ],
      "text/plain": [
       "            Cement  Blast Furnace Slag      Fly Ash        Water  \\\n",
       "count  1030.000000         1030.000000  1030.000000  1030.000000   \n",
       "mean    281.167864           73.895825    54.188350   181.567282   \n",
       "std     104.506364           86.279342    63.997004    21.354219   \n",
       "min     102.000000            0.000000     0.000000   121.800000   \n",
       "25%     192.375000            0.000000     0.000000   164.900000   \n",
       "50%     272.900000           22.000000     0.000000   185.000000   \n",
       "75%     350.000000          142.950000   118.300000   192.000000   \n",
       "max     540.000000          359.400000   200.100000   247.000000   \n",
       "\n",
       "       Superplasticizer  Coarse Aggregate  Fine Aggregate          Age  \\\n",
       "count       1030.000000       1030.000000     1030.000000  1030.000000   \n",
       "mean           6.204660        972.918932      773.580485    45.662136   \n",
       "std            5.973841         77.753954       80.175980    63.169912   \n",
       "min            0.000000        801.000000      594.000000     1.000000   \n",
       "25%            0.000000        932.000000      730.950000     7.000000   \n",
       "50%            6.400000        968.000000      779.500000    28.000000   \n",
       "75%           10.200000       1029.400000      824.000000    56.000000   \n",
       "max           32.200000       1145.000000      992.600000   365.000000   \n",
       "\n",
       "          Strength  \n",
       "count  1030.000000  \n",
       "mean     35.817961  \n",
       "std      16.705742  \n",
       "min       2.330000  \n",
       "25%      23.710000  \n",
       "50%      34.445000  \n",
       "75%      46.135000  \n",
       "max      82.600000  "
      ]
     },
     "execution_count": 4,
     "metadata": {},
     "output_type": "execute_result"
    }
   ],
   "source": [
    "concrete_data.describe()"
   ]
  },
  {
   "cell_type": "code",
   "execution_count": 5,
   "id": "4ff17b60-0c72-4c4a-8277-9826175bf7de",
   "metadata": {},
   "outputs": [
    {
     "data": {
      "text/plain": [
       "Cement                0\n",
       "Blast Furnace Slag    0\n",
       "Fly Ash               0\n",
       "Water                 0\n",
       "Superplasticizer      0\n",
       "Coarse Aggregate      0\n",
       "Fine Aggregate        0\n",
       "Age                   0\n",
       "Strength              0\n",
       "dtype: int64"
      ]
     },
     "execution_count": 5,
     "metadata": {},
     "output_type": "execute_result"
    }
   ],
   "source": [
    "concrete_data.isnull().sum()"
   ]
  },
  {
   "cell_type": "markdown",
   "id": "631e6ec8-4775-44bd-bc59-d4514811a14a",
   "metadata": {},
   "source": [
    "The data looks very clean and is ready to be used to build our model.\n"
   ]
  },
  {
   "cell_type": "markdown",
   "id": "7446c1e9-bbcc-4a53-88d6-32f98ea70cd6",
   "metadata": {},
   "source": [
    "#### Split data into predictors and target\n"
   ]
  },
  {
   "cell_type": "markdown",
   "id": "5add2c9f-fa4a-4d46-87a1-b553b419068d",
   "metadata": {},
   "source": [
    "The target variable in this problem is the concrete sample strength. Therefore, our predictors will be all the other columns.\n"
   ]
  },
  {
   "cell_type": "code",
   "execution_count": 6,
   "id": "1b9d0da2-9d8e-4ed6-92d4-75fb8e56579d",
   "metadata": {},
   "outputs": [],
   "source": [
    "concrete_data_columns = concrete_data.columns"
   ]
  },
  {
   "cell_type": "code",
   "execution_count": 7,
   "id": "4f95001b-5d3f-4250-ac79-e952769ad6f9",
   "metadata": {},
   "outputs": [],
   "source": [
    "predictors = concrete_data[concrete_data_columns[concrete_data_columns != 'Strength']] # all columns except Strength\n",
    "target = concrete_data['Strength'] # Strength column"
   ]
  },
  {
   "cell_type": "markdown",
   "id": "8de62c03-0334-4e3d-a3f8-0114bd0bc035",
   "metadata": {},
   "source": [
    "<a id=\"item2\"></a>\n"
   ]
  },
  {
   "cell_type": "markdown",
   "id": "98c6282e-7125-4cce-9fb8-435b0f25440b",
   "metadata": {},
   "source": [
    "Let's do a quick sanity check of the predictors and the target dataframes.\n"
   ]
  },
  {
   "cell_type": "code",
   "execution_count": 8,
   "id": "e99c05e1-ae34-4551-a5d7-ae9daf691f8a",
   "metadata": {},
   "outputs": [
    {
     "data": {
      "text/html": [
       "<div>\n",
       "<style scoped>\n",
       "    .dataframe tbody tr th:only-of-type {\n",
       "        vertical-align: middle;\n",
       "    }\n",
       "\n",
       "    .dataframe tbody tr th {\n",
       "        vertical-align: top;\n",
       "    }\n",
       "\n",
       "    .dataframe thead th {\n",
       "        text-align: right;\n",
       "    }\n",
       "</style>\n",
       "<table border=\"1\" class=\"dataframe\">\n",
       "  <thead>\n",
       "    <tr style=\"text-align: right;\">\n",
       "      <th></th>\n",
       "      <th>Cement</th>\n",
       "      <th>Blast Furnace Slag</th>\n",
       "      <th>Fly Ash</th>\n",
       "      <th>Water</th>\n",
       "      <th>Superplasticizer</th>\n",
       "      <th>Coarse Aggregate</th>\n",
       "      <th>Fine Aggregate</th>\n",
       "      <th>Age</th>\n",
       "    </tr>\n",
       "  </thead>\n",
       "  <tbody>\n",
       "    <tr>\n",
       "      <th>0</th>\n",
       "      <td>540.0</td>\n",
       "      <td>0.0</td>\n",
       "      <td>0.0</td>\n",
       "      <td>162.0</td>\n",
       "      <td>2.5</td>\n",
       "      <td>1040.0</td>\n",
       "      <td>676.0</td>\n",
       "      <td>28</td>\n",
       "    </tr>\n",
       "    <tr>\n",
       "      <th>1</th>\n",
       "      <td>540.0</td>\n",
       "      <td>0.0</td>\n",
       "      <td>0.0</td>\n",
       "      <td>162.0</td>\n",
       "      <td>2.5</td>\n",
       "      <td>1055.0</td>\n",
       "      <td>676.0</td>\n",
       "      <td>28</td>\n",
       "    </tr>\n",
       "    <tr>\n",
       "      <th>2</th>\n",
       "      <td>332.5</td>\n",
       "      <td>142.5</td>\n",
       "      <td>0.0</td>\n",
       "      <td>228.0</td>\n",
       "      <td>0.0</td>\n",
       "      <td>932.0</td>\n",
       "      <td>594.0</td>\n",
       "      <td>270</td>\n",
       "    </tr>\n",
       "    <tr>\n",
       "      <th>3</th>\n",
       "      <td>332.5</td>\n",
       "      <td>142.5</td>\n",
       "      <td>0.0</td>\n",
       "      <td>228.0</td>\n",
       "      <td>0.0</td>\n",
       "      <td>932.0</td>\n",
       "      <td>594.0</td>\n",
       "      <td>365</td>\n",
       "    </tr>\n",
       "    <tr>\n",
       "      <th>4</th>\n",
       "      <td>198.6</td>\n",
       "      <td>132.4</td>\n",
       "      <td>0.0</td>\n",
       "      <td>192.0</td>\n",
       "      <td>0.0</td>\n",
       "      <td>978.4</td>\n",
       "      <td>825.5</td>\n",
       "      <td>360</td>\n",
       "    </tr>\n",
       "  </tbody>\n",
       "</table>\n",
       "</div>"
      ],
      "text/plain": [
       "   Cement  Blast Furnace Slag  Fly Ash  Water  Superplasticizer  \\\n",
       "0   540.0                 0.0      0.0  162.0               2.5   \n",
       "1   540.0                 0.0      0.0  162.0               2.5   \n",
       "2   332.5               142.5      0.0  228.0               0.0   \n",
       "3   332.5               142.5      0.0  228.0               0.0   \n",
       "4   198.6               132.4      0.0  192.0               0.0   \n",
       "\n",
       "   Coarse Aggregate  Fine Aggregate  Age  \n",
       "0            1040.0           676.0   28  \n",
       "1            1055.0           676.0   28  \n",
       "2             932.0           594.0  270  \n",
       "3             932.0           594.0  365  \n",
       "4             978.4           825.5  360  "
      ]
     },
     "execution_count": 8,
     "metadata": {},
     "output_type": "execute_result"
    }
   ],
   "source": [
    "predictors.head()"
   ]
  },
  {
   "cell_type": "code",
   "execution_count": 9,
   "id": "6b838c48-6305-4267-bdd6-7dd92cf046c9",
   "metadata": {},
   "outputs": [
    {
     "data": {
      "text/plain": [
       "0    79.99\n",
       "1    61.89\n",
       "2    40.27\n",
       "3    41.05\n",
       "4    44.30\n",
       "Name: Strength, dtype: float64"
      ]
     },
     "execution_count": 9,
     "metadata": {},
     "output_type": "execute_result"
    }
   ],
   "source": [
    "target.head()"
   ]
  },
  {
   "cell_type": "markdown",
   "id": "53d0f22f-d2f4-4ceb-b6b5-1a840ffd30c4",
   "metadata": {},
   "source": [
    "Finally, the last step is to normalize the data by substracting the mean and dividing by the standard deviation.\n"
   ]
  },
  {
   "cell_type": "code",
   "execution_count": 10,
   "id": "17a0491b-1f6e-48e9-adc9-34c216687717",
   "metadata": {},
   "outputs": [
    {
     "data": {
      "text/html": [
       "<div>\n",
       "<style scoped>\n",
       "    .dataframe tbody tr th:only-of-type {\n",
       "        vertical-align: middle;\n",
       "    }\n",
       "\n",
       "    .dataframe tbody tr th {\n",
       "        vertical-align: top;\n",
       "    }\n",
       "\n",
       "    .dataframe thead th {\n",
       "        text-align: right;\n",
       "    }\n",
       "</style>\n",
       "<table border=\"1\" class=\"dataframe\">\n",
       "  <thead>\n",
       "    <tr style=\"text-align: right;\">\n",
       "      <th></th>\n",
       "      <th>Cement</th>\n",
       "      <th>Blast Furnace Slag</th>\n",
       "      <th>Fly Ash</th>\n",
       "      <th>Water</th>\n",
       "      <th>Superplasticizer</th>\n",
       "      <th>Coarse Aggregate</th>\n",
       "      <th>Fine Aggregate</th>\n",
       "      <th>Age</th>\n",
       "    </tr>\n",
       "  </thead>\n",
       "  <tbody>\n",
       "    <tr>\n",
       "      <th>0</th>\n",
       "      <td>2.476712</td>\n",
       "      <td>-0.856472</td>\n",
       "      <td>-0.846733</td>\n",
       "      <td>-0.916319</td>\n",
       "      <td>-0.620147</td>\n",
       "      <td>0.862735</td>\n",
       "      <td>-1.217079</td>\n",
       "      <td>-0.279597</td>\n",
       "    </tr>\n",
       "    <tr>\n",
       "      <th>1</th>\n",
       "      <td>2.476712</td>\n",
       "      <td>-0.856472</td>\n",
       "      <td>-0.846733</td>\n",
       "      <td>-0.916319</td>\n",
       "      <td>-0.620147</td>\n",
       "      <td>1.055651</td>\n",
       "      <td>-1.217079</td>\n",
       "      <td>-0.279597</td>\n",
       "    </tr>\n",
       "    <tr>\n",
       "      <th>2</th>\n",
       "      <td>0.491187</td>\n",
       "      <td>0.795140</td>\n",
       "      <td>-0.846733</td>\n",
       "      <td>2.174405</td>\n",
       "      <td>-1.038638</td>\n",
       "      <td>-0.526262</td>\n",
       "      <td>-2.239829</td>\n",
       "      <td>3.551340</td>\n",
       "    </tr>\n",
       "    <tr>\n",
       "      <th>3</th>\n",
       "      <td>0.491187</td>\n",
       "      <td>0.795140</td>\n",
       "      <td>-0.846733</td>\n",
       "      <td>2.174405</td>\n",
       "      <td>-1.038638</td>\n",
       "      <td>-0.526262</td>\n",
       "      <td>-2.239829</td>\n",
       "      <td>5.055221</td>\n",
       "    </tr>\n",
       "    <tr>\n",
       "      <th>4</th>\n",
       "      <td>-0.790075</td>\n",
       "      <td>0.678079</td>\n",
       "      <td>-0.846733</td>\n",
       "      <td>0.488555</td>\n",
       "      <td>-1.038638</td>\n",
       "      <td>0.070492</td>\n",
       "      <td>0.647569</td>\n",
       "      <td>4.976069</td>\n",
       "    </tr>\n",
       "  </tbody>\n",
       "</table>\n",
       "</div>"
      ],
      "text/plain": [
       "     Cement  Blast Furnace Slag   Fly Ash     Water  Superplasticizer  \\\n",
       "0  2.476712           -0.856472 -0.846733 -0.916319         -0.620147   \n",
       "1  2.476712           -0.856472 -0.846733 -0.916319         -0.620147   \n",
       "2  0.491187            0.795140 -0.846733  2.174405         -1.038638   \n",
       "3  0.491187            0.795140 -0.846733  2.174405         -1.038638   \n",
       "4 -0.790075            0.678079 -0.846733  0.488555         -1.038638   \n",
       "\n",
       "   Coarse Aggregate  Fine Aggregate       Age  \n",
       "0          0.862735       -1.217079 -0.279597  \n",
       "1          1.055651       -1.217079 -0.279597  \n",
       "2         -0.526262       -2.239829  3.551340  \n",
       "3         -0.526262       -2.239829  5.055221  \n",
       "4          0.070492        0.647569  4.976069  "
      ]
     },
     "execution_count": 10,
     "metadata": {},
     "output_type": "execute_result"
    }
   ],
   "source": [
    "predictors_norm = (predictors - predictors.mean()) / predictors.std()\n",
    "predictors_norm.head()"
   ]
  },
  {
   "cell_type": "markdown",
   "id": "60cc3491-5656-4b3d-a522-00d147e9f557",
   "metadata": {},
   "source": [
    "Let's save the number of predictors to *n_cols* since we will need this number when building our network.\n"
   ]
  },
  {
   "cell_type": "code",
   "execution_count": 11,
   "id": "b3800cc5-2be0-486a-bd13-8f7de6813947",
   "metadata": {},
   "outputs": [],
   "source": [
    "n_cols = predictors_norm.shape[1] # number of predictors"
   ]
  },
  {
   "cell_type": "markdown",
   "id": "ba4419c4-8940-4257-96a6-504c02ccba43",
   "metadata": {},
   "source": [
    "<a id=\"item1\"></a>\n"
   ]
  },
  {
   "cell_type": "markdown",
   "id": "41bc5b2f-393c-43ab-b15d-0884e0e0d75a",
   "metadata": {},
   "source": [
    "<a id='item32'></a>\n"
   ]
  },
  {
   "cell_type": "markdown",
   "id": "5905e70c-c6f6-421d-8a09-03431a3aeb9e",
   "metadata": {},
   "source": [
    "##  Import Keras Packages\n",
    "\n",
    "##### Let's import the rest of the packages from the Keras library that we will need to build our regression model.\n"
   ]
  },
  {
   "cell_type": "code",
   "execution_count": 12,
   "id": "c7de1637-318d-4510-ad76-cfebdd83a274",
   "metadata": {},
   "outputs": [],
   "source": [
    "from keras.models import Sequential\n",
    "from keras.layers import Dense\n",
    "from keras.layers import Input"
   ]
  },
  {
   "cell_type": "markdown",
   "id": "33b3bdbd-a932-4719-80fa-195e03c9a5b2",
   "metadata": {},
   "source": [
    "<a id='item33'></a>\n"
   ]
  },
  {
   "cell_type": "markdown",
   "id": "045b0b01-47a2-4c87-88a3-9f4e7579749c",
   "metadata": {},
   "source": [
    "## Build a Neural Network\n"
   ]
  },
  {
   "cell_type": "markdown",
   "id": "728f4ef6-1fcf-4380-8d3d-91ccc9c28f84",
   "metadata": {},
   "source": [
    "Let's define a function that defines our regression model for us so that we can conveniently call it to create our model.\n"
   ]
  },
  {
   "cell_type": "code",
   "execution_count": 16,
   "id": "b81b21e0-e813-418c-9f4e-51d681528956",
   "metadata": {},
   "outputs": [],
   "source": [
    "# define regression model\n",
    "def regression_model():\n",
    "    # create model\n",
    "    model = Sequential()\n",
    "    model.add(Input(shape=(n_cols,)))\n",
    "    model.add(Dense(100, activation='relu'))\n",
    "    model.add(Dense(100, activation='relu'))\n",
    "    model.add(Dense(50, activation='relu'))\n",
    "    model.add(Dense(1))\n",
    "    \n",
    "    # compile model\n",
    "    model.compile(optimizer='adam', loss='mean_squared_error')\n",
    "    return model"
   ]
  },
  {
   "cell_type": "markdown",
   "id": "5faf1007-6b11-4b6d-b9e0-3c62ecf0cdf2",
   "metadata": {},
   "source": [
    "The above function create a model that has two hidden layers, each of 50 hidden units.\n"
   ]
  },
  {
   "cell_type": "markdown",
   "id": "3d19ef15-dcb5-47f9-993f-167d80229a52",
   "metadata": {},
   "source": [
    "<a id=\"item4\"></a>\n"
   ]
  },
  {
   "cell_type": "markdown",
   "id": "7fc49b43-5f18-4774-a595-972aaf027eaa",
   "metadata": {},
   "source": [
    "## Train and Test the Network\n"
   ]
  },
  {
   "cell_type": "markdown",
   "id": "a31d9301-7dcd-4794-85a1-8caa65cff512",
   "metadata": {},
   "source": [
    "Let's call the function now to create our model.\n"
   ]
  },
  {
   "cell_type": "code",
   "execution_count": 17,
   "id": "b1c5ef10-65bc-492d-9f5d-a2bdc9e5184e",
   "metadata": {},
   "outputs": [],
   "source": [
    "# build the model\n",
    "model = regression_model()"
   ]
  },
  {
   "cell_type": "markdown",
   "id": "56194734-19f5-4ce1-87b6-964948bd49d0",
   "metadata": {},
   "source": [
    "Next, we will train and test the model at the same time using the *fit* method. We will leave out 30% of the data for validation and we will train the model for 100 epochs.\n"
   ]
  },
  {
   "cell_type": "code",
   "execution_count": 18,
   "id": "9a12ff0d-9c29-4d29-bc9b-0bdf7a5480cc",
   "metadata": {},
   "outputs": [
    {
     "name": "stdout",
     "output_type": "stream",
     "text": [
      "Epoch 1/200\n",
      "26/26 [==============================] - 1s 8ms/step - loss: 1415.2164 - val_loss: 814.1409\n",
      "Epoch 2/200\n",
      "26/26 [==============================] - 0s 4ms/step - loss: 545.9879 - val_loss: 232.3307\n",
      "Epoch 3/200\n",
      "26/26 [==============================] - 0s 4ms/step - loss: 239.7366 - val_loss: 250.0264\n",
      "Epoch 4/200\n",
      "26/26 [==============================] - 0s 4ms/step - loss: 204.4790 - val_loss: 226.4509\n",
      "Epoch 5/200\n",
      "26/26 [==============================] - 0s 5ms/step - loss: 189.6575 - val_loss: 218.5858\n",
      "Epoch 6/200\n",
      "26/26 [==============================] - 0s 4ms/step - loss: 174.1811 - val_loss: 217.2500\n",
      "Epoch 7/200\n",
      "26/26 [==============================] - 0s 3ms/step - loss: 164.2757 - val_loss: 208.8702\n",
      "Epoch 8/200\n",
      "26/26 [==============================] - 0s 4ms/step - loss: 154.9264 - val_loss: 215.6026\n",
      "Epoch 9/200\n",
      "26/26 [==============================] - 0s 4ms/step - loss: 150.7734 - val_loss: 214.1252\n",
      "Epoch 10/200\n",
      "26/26 [==============================] - 0s 4ms/step - loss: 143.9093 - val_loss: 214.3384\n",
      "Epoch 11/200\n",
      "26/26 [==============================] - 0s 4ms/step - loss: 137.6648 - val_loss: 220.6253\n",
      "Epoch 12/200\n",
      "26/26 [==============================] - 0s 4ms/step - loss: 132.4544 - val_loss: 213.2260\n",
      "Epoch 13/200\n",
      "26/26 [==============================] - 0s 4ms/step - loss: 128.4405 - val_loss: 213.1801\n",
      "Epoch 14/200\n",
      "26/26 [==============================] - 0s 4ms/step - loss: 120.5789 - val_loss: 214.7761\n",
      "Epoch 15/200\n",
      "26/26 [==============================] - 0s 4ms/step - loss: 112.2321 - val_loss: 222.7488\n",
      "Epoch 16/200\n",
      "26/26 [==============================] - 0s 4ms/step - loss: 104.1790 - val_loss: 234.4880\n",
      "Epoch 17/200\n",
      "26/26 [==============================] - 0s 4ms/step - loss: 94.2471 - val_loss: 222.6570\n",
      "Epoch 18/200\n",
      "26/26 [==============================] - 0s 4ms/step - loss: 83.6168 - val_loss: 214.7551\n",
      "Epoch 19/200\n",
      "26/26 [==============================] - 0s 4ms/step - loss: 73.2147 - val_loss: 242.3655\n",
      "Epoch 20/200\n",
      "26/26 [==============================] - 0s 4ms/step - loss: 65.5075 - val_loss: 229.2178\n",
      "Epoch 21/200\n",
      "26/26 [==============================] - 0s 4ms/step - loss: 59.8210 - val_loss: 228.3358\n",
      "Epoch 22/200\n",
      "26/26 [==============================] - 0s 4ms/step - loss: 56.0507 - val_loss: 233.5093\n",
      "Epoch 23/200\n",
      "26/26 [==============================] - 0s 4ms/step - loss: 52.8047 - val_loss: 224.0974\n",
      "Epoch 24/200\n",
      "26/26 [==============================] - 0s 4ms/step - loss: 47.8473 - val_loss: 256.3242\n",
      "Epoch 25/200\n",
      "26/26 [==============================] - 0s 4ms/step - loss: 47.2739 - val_loss: 243.8782\n",
      "Epoch 26/200\n",
      "26/26 [==============================] - 0s 5ms/step - loss: 43.2765 - val_loss: 222.9625\n",
      "Epoch 27/200\n",
      "26/26 [==============================] - 0s 4ms/step - loss: 40.5849 - val_loss: 243.3312\n",
      "Epoch 28/200\n",
      "26/26 [==============================] - 0s 4ms/step - loss: 40.1913 - val_loss: 241.8177\n",
      "Epoch 29/200\n",
      "26/26 [==============================] - 0s 5ms/step - loss: 38.9745 - val_loss: 250.4447\n",
      "Epoch 30/200\n",
      "26/26 [==============================] - 0s 5ms/step - loss: 36.3478 - val_loss: 259.7493\n",
      "Epoch 31/200\n",
      "26/26 [==============================] - 0s 5ms/step - loss: 34.3960 - val_loss: 269.9136\n",
      "Epoch 32/200\n",
      "26/26 [==============================] - 0s 5ms/step - loss: 33.8914 - val_loss: 255.7935\n",
      "Epoch 33/200\n",
      "26/26 [==============================] - 0s 4ms/step - loss: 32.3848 - val_loss: 242.6729\n",
      "Epoch 34/200\n",
      "26/26 [==============================] - 0s 5ms/step - loss: 31.4109 - val_loss: 241.7211\n",
      "Epoch 35/200\n",
      "26/26 [==============================] - 0s 5ms/step - loss: 29.8094 - val_loss: 232.2941\n",
      "Epoch 36/200\n",
      "26/26 [==============================] - 0s 5ms/step - loss: 28.6082 - val_loss: 270.5805\n",
      "Epoch 37/200\n",
      "26/26 [==============================] - 0s 5ms/step - loss: 28.7924 - val_loss: 257.1355\n",
      "Epoch 38/200\n",
      "26/26 [==============================] - 0s 5ms/step - loss: 26.3971 - val_loss: 218.9619\n",
      "Epoch 39/200\n",
      "26/26 [==============================] - 0s 5ms/step - loss: 25.9955 - val_loss: 236.4301\n",
      "Epoch 40/200\n",
      "26/26 [==============================] - 0s 5ms/step - loss: 25.3988 - val_loss: 239.7243\n",
      "Epoch 41/200\n",
      "26/26 [==============================] - 0s 5ms/step - loss: 24.3434 - val_loss: 272.0849\n",
      "Epoch 42/200\n",
      "26/26 [==============================] - 0s 5ms/step - loss: 24.1997 - val_loss: 229.3455\n",
      "Epoch 43/200\n",
      "26/26 [==============================] - 0s 5ms/step - loss: 23.1475 - val_loss: 246.7771\n",
      "Epoch 44/200\n",
      "26/26 [==============================] - 0s 4ms/step - loss: 22.5299 - val_loss: 222.3484\n",
      "Epoch 45/200\n",
      "26/26 [==============================] - 0s 5ms/step - loss: 21.9099 - val_loss: 236.1228\n",
      "Epoch 46/200\n",
      "26/26 [==============================] - 0s 5ms/step - loss: 22.0179 - val_loss: 245.3517\n",
      "Epoch 47/200\n",
      "26/26 [==============================] - 0s 4ms/step - loss: 21.9642 - val_loss: 250.0948\n",
      "Epoch 48/200\n",
      "26/26 [==============================] - 0s 4ms/step - loss: 21.2067 - val_loss: 247.8733\n",
      "Epoch 49/200\n",
      "26/26 [==============================] - 0s 5ms/step - loss: 20.8703 - val_loss: 244.0712\n",
      "Epoch 50/200\n",
      "26/26 [==============================] - 0s 5ms/step - loss: 20.6871 - val_loss: 202.7770\n",
      "Epoch 51/200\n",
      "26/26 [==============================] - 0s 5ms/step - loss: 19.0092 - val_loss: 220.3557\n",
      "Epoch 52/200\n",
      "26/26 [==============================] - 0s 5ms/step - loss: 19.1876 - val_loss: 225.7730\n",
      "Epoch 53/200\n",
      "26/26 [==============================] - 0s 4ms/step - loss: 19.1162 - val_loss: 205.0877\n",
      "Epoch 54/200\n",
      "26/26 [==============================] - 0s 5ms/step - loss: 18.3923 - val_loss: 188.1439\n",
      "Epoch 55/200\n",
      "26/26 [==============================] - 0s 5ms/step - loss: 18.8987 - val_loss: 216.7878\n",
      "Epoch 56/200\n",
      "26/26 [==============================] - 0s 5ms/step - loss: 17.6155 - val_loss: 213.6133\n",
      "Epoch 57/200\n",
      "26/26 [==============================] - 0s 5ms/step - loss: 17.4583 - val_loss: 247.7493\n",
      "Epoch 58/200\n",
      "26/26 [==============================] - 0s 5ms/step - loss: 17.2676 - val_loss: 207.9783\n",
      "Epoch 59/200\n",
      "26/26 [==============================] - 0s 5ms/step - loss: 17.1690 - val_loss: 193.9816\n",
      "Epoch 60/200\n",
      "26/26 [==============================] - 0s 5ms/step - loss: 16.2256 - val_loss: 232.9729\n",
      "Epoch 61/200\n",
      "26/26 [==============================] - 0s 5ms/step - loss: 16.9369 - val_loss: 213.5568\n",
      "Epoch 62/200\n",
      "26/26 [==============================] - 0s 5ms/step - loss: 15.1594 - val_loss: 224.6863\n",
      "Epoch 63/200\n",
      "26/26 [==============================] - 0s 5ms/step - loss: 15.1431 - val_loss: 235.7891\n",
      "Epoch 64/200\n",
      "26/26 [==============================] - 0s 5ms/step - loss: 15.0478 - val_loss: 185.2365\n",
      "Epoch 65/200\n",
      "26/26 [==============================] - 0s 4ms/step - loss: 14.8883 - val_loss: 195.3794\n",
      "Epoch 66/200\n",
      "26/26 [==============================] - 0s 5ms/step - loss: 14.7309 - val_loss: 196.2164\n",
      "Epoch 67/200\n",
      "26/26 [==============================] - 0s 5ms/step - loss: 14.6752 - val_loss: 216.1324\n",
      "Epoch 68/200\n",
      "26/26 [==============================] - 0s 5ms/step - loss: 14.6250 - val_loss: 234.5707\n",
      "Epoch 69/200\n",
      "26/26 [==============================] - 0s 5ms/step - loss: 14.3508 - val_loss: 189.1478\n",
      "Epoch 70/200\n",
      "26/26 [==============================] - 0s 6ms/step - loss: 14.1658 - val_loss: 219.3724\n",
      "Epoch 71/200\n",
      "26/26 [==============================] - 0s 4ms/step - loss: 13.3826 - val_loss: 209.4508\n",
      "Epoch 72/200\n",
      "26/26 [==============================] - 0s 5ms/step - loss: 13.7868 - val_loss: 202.9470\n",
      "Epoch 73/200\n",
      "26/26 [==============================] - 0s 5ms/step - loss: 13.6321 - val_loss: 197.2999\n",
      "Epoch 74/200\n",
      "26/26 [==============================] - 0s 5ms/step - loss: 13.2297 - val_loss: 193.1319\n",
      "Epoch 75/200\n",
      "26/26 [==============================] - 0s 5ms/step - loss: 13.3389 - val_loss: 207.6289\n",
      "Epoch 76/200\n",
      "26/26 [==============================] - 0s 4ms/step - loss: 13.2172 - val_loss: 228.8498\n",
      "Epoch 77/200\n",
      "26/26 [==============================] - 0s 4ms/step - loss: 12.7314 - val_loss: 191.0301\n",
      "Epoch 78/200\n",
      "26/26 [==============================] - 0s 4ms/step - loss: 12.5973 - val_loss: 189.1748\n",
      "Epoch 79/200\n",
      "26/26 [==============================] - 0s 5ms/step - loss: 13.3422 - val_loss: 179.1344\n",
      "Epoch 80/200\n",
      "26/26 [==============================] - 0s 5ms/step - loss: 13.2859 - val_loss: 201.1765\n",
      "Epoch 81/200\n",
      "26/26 [==============================] - 0s 5ms/step - loss: 12.4251 - val_loss: 214.9447\n",
      "Epoch 82/200\n",
      "26/26 [==============================] - 0s 5ms/step - loss: 12.4981 - val_loss: 179.8862\n",
      "Epoch 83/200\n",
      "26/26 [==============================] - 0s 5ms/step - loss: 12.7142 - val_loss: 204.5125\n",
      "Epoch 84/200\n",
      "26/26 [==============================] - 0s 4ms/step - loss: 13.2153 - val_loss: 192.7043\n",
      "Epoch 85/200\n",
      "26/26 [==============================] - 0s 5ms/step - loss: 11.9463 - val_loss: 183.3909\n",
      "Epoch 86/200\n",
      "26/26 [==============================] - 0s 4ms/step - loss: 11.7621 - val_loss: 192.8427\n",
      "Epoch 87/200\n",
      "26/26 [==============================] - 0s 4ms/step - loss: 12.9420 - val_loss: 251.3727\n",
      "Epoch 88/200\n",
      "26/26 [==============================] - 0s 5ms/step - loss: 12.8734 - val_loss: 173.3536\n",
      "Epoch 89/200\n",
      "26/26 [==============================] - 0s 5ms/step - loss: 12.3672 - val_loss: 201.2741\n",
      "Epoch 90/200\n",
      "26/26 [==============================] - 0s 5ms/step - loss: 11.8623 - val_loss: 182.0608\n",
      "Epoch 91/200\n",
      "26/26 [==============================] - 0s 4ms/step - loss: 12.0587 - val_loss: 166.6366\n",
      "Epoch 92/200\n",
      "26/26 [==============================] - 0s 5ms/step - loss: 11.9904 - val_loss: 158.6114\n",
      "Epoch 93/200\n",
      "26/26 [==============================] - 0s 5ms/step - loss: 11.6407 - val_loss: 185.9366\n",
      "Epoch 94/200\n",
      "26/26 [==============================] - 0s 5ms/step - loss: 13.0347 - val_loss: 212.5100\n",
      "Epoch 95/200\n",
      "26/26 [==============================] - 0s 5ms/step - loss: 12.2754 - val_loss: 203.4528\n",
      "Epoch 96/200\n",
      "26/26 [==============================] - 0s 5ms/step - loss: 11.6891 - val_loss: 170.2738\n",
      "Epoch 97/200\n",
      "26/26 [==============================] - 0s 5ms/step - loss: 11.4571 - val_loss: 197.5682\n",
      "Epoch 98/200\n",
      "26/26 [==============================] - 0s 4ms/step - loss: 11.2226 - val_loss: 189.5601\n",
      "Epoch 99/200\n",
      "26/26 [==============================] - 0s 5ms/step - loss: 12.6262 - val_loss: 211.6245\n",
      "Epoch 100/200\n",
      "26/26 [==============================] - 0s 5ms/step - loss: 11.6756 - val_loss: 183.9539\n",
      "Epoch 101/200\n",
      "26/26 [==============================] - 0s 4ms/step - loss: 11.6149 - val_loss: 176.7512\n",
      "Epoch 102/200\n",
      "26/26 [==============================] - 0s 4ms/step - loss: 11.8540 - val_loss: 206.9799\n",
      "Epoch 103/200\n",
      "26/26 [==============================] - 0s 4ms/step - loss: 11.1094 - val_loss: 166.7339\n",
      "Epoch 104/200\n",
      "26/26 [==============================] - 0s 5ms/step - loss: 12.6228 - val_loss: 170.9149\n",
      "Epoch 105/200\n",
      "26/26 [==============================] - 0s 5ms/step - loss: 11.9362 - val_loss: 207.3747\n",
      "Epoch 106/200\n",
      "26/26 [==============================] - 0s 5ms/step - loss: 11.2485 - val_loss: 202.0885\n",
      "Epoch 107/200\n",
      "26/26 [==============================] - 0s 5ms/step - loss: 10.9149 - val_loss: 203.1625\n",
      "Epoch 108/200\n",
      "26/26 [==============================] - 0s 5ms/step - loss: 11.4459 - val_loss: 191.8743\n",
      "Epoch 109/200\n",
      "26/26 [==============================] - 0s 5ms/step - loss: 11.6814 - val_loss: 174.0916\n",
      "Epoch 110/200\n",
      "26/26 [==============================] - 0s 5ms/step - loss: 11.2572 - val_loss: 175.5281\n",
      "Epoch 111/200\n",
      "26/26 [==============================] - 0s 5ms/step - loss: 11.0198 - val_loss: 170.3407\n",
      "Epoch 112/200\n",
      "26/26 [==============================] - 0s 4ms/step - loss: 10.4639 - val_loss: 192.6723\n",
      "Epoch 113/200\n",
      "26/26 [==============================] - 0s 5ms/step - loss: 10.9019 - val_loss: 185.0274\n",
      "Epoch 114/200\n",
      "26/26 [==============================] - 0s 5ms/step - loss: 12.5677 - val_loss: 177.6194\n",
      "Epoch 115/200\n",
      "26/26 [==============================] - 0s 5ms/step - loss: 10.9265 - val_loss: 191.9740\n",
      "Epoch 116/200\n",
      "26/26 [==============================] - 0s 5ms/step - loss: 10.1581 - val_loss: 179.4927\n",
      "Epoch 117/200\n",
      "26/26 [==============================] - 0s 4ms/step - loss: 10.4168 - val_loss: 167.7151\n",
      "Epoch 118/200\n",
      "26/26 [==============================] - 0s 4ms/step - loss: 10.6237 - val_loss: 194.8100\n",
      "Epoch 119/200\n",
      "26/26 [==============================] - 0s 5ms/step - loss: 10.0720 - val_loss: 175.9110\n",
      "Epoch 120/200\n",
      "26/26 [==============================] - 0s 4ms/step - loss: 10.9121 - val_loss: 182.6019\n",
      "Epoch 121/200\n",
      "26/26 [==============================] - 0s 4ms/step - loss: 10.5488 - val_loss: 181.0037\n",
      "Epoch 122/200\n",
      "26/26 [==============================] - 0s 6ms/step - loss: 11.7806 - val_loss: 208.2048\n",
      "Epoch 123/200\n",
      "26/26 [==============================] - 0s 3ms/step - loss: 10.7736 - val_loss: 171.1923\n",
      "Epoch 124/200\n",
      "26/26 [==============================] - 0s 4ms/step - loss: 12.4032 - val_loss: 183.0913\n",
      "Epoch 125/200\n",
      "26/26 [==============================] - 0s 5ms/step - loss: 9.8989 - val_loss: 187.1678\n",
      "Epoch 126/200\n",
      "26/26 [==============================] - 0s 4ms/step - loss: 10.2157 - val_loss: 190.2108\n",
      "Epoch 127/200\n",
      "26/26 [==============================] - 0s 5ms/step - loss: 9.4738 - val_loss: 185.1193\n",
      "Epoch 128/200\n",
      "26/26 [==============================] - 0s 5ms/step - loss: 9.9855 - val_loss: 184.4556\n",
      "Epoch 129/200\n",
      "26/26 [==============================] - 0s 5ms/step - loss: 9.8273 - val_loss: 185.3284\n",
      "Epoch 130/200\n",
      "26/26 [==============================] - 0s 5ms/step - loss: 10.7068 - val_loss: 184.7279\n",
      "Epoch 131/200\n",
      "26/26 [==============================] - 0s 5ms/step - loss: 10.0499 - val_loss: 184.8069\n",
      "Epoch 132/200\n",
      "26/26 [==============================] - 0s 5ms/step - loss: 9.7522 - val_loss: 205.9661\n",
      "Epoch 133/200\n",
      "26/26 [==============================] - 0s 4ms/step - loss: 9.9196 - val_loss: 197.9186\n",
      "Epoch 134/200\n",
      "26/26 [==============================] - 0s 4ms/step - loss: 9.7020 - val_loss: 186.4837\n",
      "Epoch 135/200\n",
      "26/26 [==============================] - 0s 4ms/step - loss: 10.3693 - val_loss: 205.8791\n",
      "Epoch 136/200\n",
      "26/26 [==============================] - 0s 4ms/step - loss: 10.7317 - val_loss: 184.2084\n",
      "Epoch 137/200\n",
      "26/26 [==============================] - 0s 4ms/step - loss: 10.6136 - val_loss: 177.8430\n",
      "Epoch 138/200\n",
      "26/26 [==============================] - 0s 5ms/step - loss: 9.7652 - val_loss: 222.1679\n",
      "Epoch 139/200\n",
      "26/26 [==============================] - 0s 5ms/step - loss: 10.6039 - val_loss: 180.4817\n",
      "Epoch 140/200\n",
      "26/26 [==============================] - 0s 5ms/step - loss: 9.7106 - val_loss: 189.1717\n",
      "Epoch 141/200\n",
      "26/26 [==============================] - 0s 5ms/step - loss: 11.5319 - val_loss: 194.8858\n",
      "Epoch 142/200\n",
      "26/26 [==============================] - 0s 5ms/step - loss: 11.2745 - val_loss: 208.8788\n",
      "Epoch 143/200\n",
      "26/26 [==============================] - 0s 4ms/step - loss: 10.2138 - val_loss: 194.8918\n",
      "Epoch 144/200\n",
      "26/26 [==============================] - 0s 5ms/step - loss: 9.2529 - val_loss: 186.8155\n",
      "Epoch 145/200\n",
      "26/26 [==============================] - 0s 4ms/step - loss: 9.8016 - val_loss: 223.5339\n",
      "Epoch 146/200\n",
      "26/26 [==============================] - 0s 4ms/step - loss: 11.2773 - val_loss: 175.1171\n",
      "Epoch 147/200\n",
      "26/26 [==============================] - 0s 5ms/step - loss: 9.6848 - val_loss: 178.7655\n",
      "Epoch 148/200\n",
      "26/26 [==============================] - 0s 4ms/step - loss: 11.1600 - val_loss: 198.1098\n",
      "Epoch 149/200\n",
      "26/26 [==============================] - 0s 5ms/step - loss: 9.9699 - val_loss: 180.2031\n",
      "Epoch 150/200\n",
      "26/26 [==============================] - 0s 4ms/step - loss: 9.8163 - val_loss: 201.0589\n",
      "Epoch 151/200\n",
      "26/26 [==============================] - 0s 4ms/step - loss: 9.7834 - val_loss: 211.6633\n",
      "Epoch 152/200\n",
      "26/26 [==============================] - 0s 4ms/step - loss: 9.4435 - val_loss: 192.1727\n",
      "Epoch 153/200\n",
      "26/26 [==============================] - 0s 5ms/step - loss: 10.6369 - val_loss: 153.5898\n",
      "Epoch 154/200\n",
      "26/26 [==============================] - 0s 4ms/step - loss: 9.9223 - val_loss: 191.3417\n",
      "Epoch 155/200\n",
      "26/26 [==============================] - 0s 5ms/step - loss: 9.1206 - val_loss: 176.6042\n",
      "Epoch 156/200\n",
      "26/26 [==============================] - 0s 5ms/step - loss: 9.4256 - val_loss: 201.6025\n",
      "Epoch 157/200\n",
      "26/26 [==============================] - 0s 5ms/step - loss: 9.4309 - val_loss: 178.4672\n",
      "Epoch 158/200\n",
      "26/26 [==============================] - 0s 5ms/step - loss: 10.2742 - val_loss: 203.2032\n",
      "Epoch 159/200\n",
      "26/26 [==============================] - 0s 5ms/step - loss: 10.2291 - val_loss: 211.2167\n",
      "Epoch 160/200\n",
      "26/26 [==============================] - 0s 5ms/step - loss: 9.8500 - val_loss: 187.8448\n",
      "Epoch 161/200\n",
      "26/26 [==============================] - 0s 5ms/step - loss: 9.1583 - val_loss: 192.1072\n",
      "Epoch 162/200\n",
      "26/26 [==============================] - 0s 4ms/step - loss: 9.3442 - val_loss: 208.4881\n",
      "Epoch 163/200\n",
      "26/26 [==============================] - 0s 5ms/step - loss: 10.0202 - val_loss: 194.7039\n",
      "Epoch 164/200\n",
      "26/26 [==============================] - 0s 5ms/step - loss: 9.3512 - val_loss: 210.4209\n",
      "Epoch 165/200\n",
      "26/26 [==============================] - 0s 4ms/step - loss: 8.6770 - val_loss: 209.2487\n",
      "Epoch 166/200\n",
      "26/26 [==============================] - 0s 5ms/step - loss: 9.4562 - val_loss: 172.8449\n",
      "Epoch 167/200\n",
      "26/26 [==============================] - 0s 5ms/step - loss: 10.3141 - val_loss: 197.5687\n",
      "Epoch 168/200\n",
      "26/26 [==============================] - 0s 4ms/step - loss: 10.0927 - val_loss: 209.6284\n",
      "Epoch 169/200\n",
      "26/26 [==============================] - 0s 4ms/step - loss: 8.9153 - val_loss: 178.1940\n",
      "Epoch 170/200\n",
      "26/26 [==============================] - 0s 4ms/step - loss: 10.3892 - val_loss: 201.7274\n",
      "Epoch 171/200\n",
      "26/26 [==============================] - 0s 5ms/step - loss: 9.3750 - val_loss: 221.5334\n",
      "Epoch 172/200\n",
      "26/26 [==============================] - 0s 5ms/step - loss: 9.4667 - val_loss: 226.7543\n",
      "Epoch 173/200\n",
      "26/26 [==============================] - 0s 5ms/step - loss: 9.7105 - val_loss: 202.6371\n",
      "Epoch 174/200\n",
      "26/26 [==============================] - 0s 5ms/step - loss: 8.9889 - val_loss: 190.3990\n",
      "Epoch 175/200\n",
      "26/26 [==============================] - 0s 5ms/step - loss: 9.3235 - val_loss: 178.2250\n",
      "Epoch 176/200\n",
      "26/26 [==============================] - 0s 5ms/step - loss: 9.6039 - val_loss: 208.4365\n",
      "Epoch 177/200\n",
      "26/26 [==============================] - 0s 5ms/step - loss: 9.1935 - val_loss: 181.8583\n",
      "Epoch 178/200\n",
      "26/26 [==============================] - 0s 5ms/step - loss: 9.3721 - val_loss: 168.6190\n",
      "Epoch 179/200\n",
      "26/26 [==============================] - 0s 5ms/step - loss: 8.9208 - val_loss: 210.8493\n",
      "Epoch 180/200\n",
      "26/26 [==============================] - 0s 5ms/step - loss: 8.5631 - val_loss: 200.5542\n",
      "Epoch 181/200\n",
      "26/26 [==============================] - 0s 5ms/step - loss: 8.1356 - val_loss: 205.0454\n",
      "Epoch 182/200\n",
      "26/26 [==============================] - 0s 5ms/step - loss: 9.2690 - val_loss: 163.5708\n",
      "Epoch 183/200\n",
      "26/26 [==============================] - 0s 5ms/step - loss: 9.7963 - val_loss: 172.2522\n",
      "Epoch 184/200\n",
      "26/26 [==============================] - 0s 5ms/step - loss: 9.0206 - val_loss: 202.3268\n",
      "Epoch 185/200\n",
      "26/26 [==============================] - 0s 5ms/step - loss: 9.2263 - val_loss: 170.1166\n",
      "Epoch 186/200\n",
      "26/26 [==============================] - 0s 4ms/step - loss: 8.2159 - val_loss: 184.2096\n",
      "Epoch 187/200\n",
      "26/26 [==============================] - 0s 5ms/step - loss: 9.1375 - val_loss: 179.7245\n",
      "Epoch 188/200\n",
      "26/26 [==============================] - 0s 5ms/step - loss: 10.7519 - val_loss: 219.2208\n",
      "Epoch 189/200\n",
      "26/26 [==============================] - 0s 5ms/step - loss: 8.7874 - val_loss: 200.3358\n",
      "Epoch 190/200\n",
      "26/26 [==============================] - 0s 5ms/step - loss: 8.7702 - val_loss: 210.4895\n",
      "Epoch 191/200\n",
      "26/26 [==============================] - 0s 5ms/step - loss: 8.6872 - val_loss: 193.1292\n",
      "Epoch 192/200\n",
      "26/26 [==============================] - 0s 5ms/step - loss: 8.6222 - val_loss: 204.4772\n",
      "Epoch 193/200\n",
      "26/26 [==============================] - 0s 5ms/step - loss: 8.9004 - val_loss: 219.8809\n",
      "Epoch 194/200\n",
      "26/26 [==============================] - 0s 5ms/step - loss: 8.6105 - val_loss: 221.0501\n",
      "Epoch 195/200\n",
      "26/26 [==============================] - 0s 6ms/step - loss: 8.7167 - val_loss: 196.8375\n",
      "Epoch 196/200\n",
      "26/26 [==============================] - 0s 5ms/step - loss: 8.3076 - val_loss: 200.0577\n",
      "Epoch 197/200\n",
      "26/26 [==============================] - 0s 5ms/step - loss: 8.0552 - val_loss: 194.6150\n",
      "Epoch 198/200\n",
      "26/26 [==============================] - 0s 5ms/step - loss: 8.3397 - val_loss: 208.4449\n",
      "Epoch 199/200\n",
      "26/26 [==============================] - 0s 5ms/step - loss: 10.0216 - val_loss: 187.9899\n",
      "Epoch 200/200\n",
      "26/26 [==============================] - 0s 5ms/step - loss: 8.7889 - val_loss: 201.1232\n"
     ]
    },
    {
     "data": {
      "text/plain": [
       "<keras.src.callbacks.History at 0x248d061e350>"
      ]
     },
     "execution_count": 18,
     "metadata": {},
     "output_type": "execute_result"
    }
   ],
   "source": [
    "# fit the model\n",
    "model.fit(predictors_norm, target, validation_split=0.2, epochs=200, verbose=1)"
   ]
  },
  {
   "cell_type": "markdown",
   "id": "ac9c1534-12b4-4705-859c-b5affecb3c2f",
   "metadata": {},
   "source": [
    "<strong>You can refer to this [link](https://keras.io/models/sequential/) to learn about other functions that you can use for prediction or evaluation.</strong>\n"
   ]
  },
  {
   "cell_type": "markdown",
   "id": "1f1bff55-1a35-4360-91e1-b80433d7e39b",
   "metadata": {},
   "source": [
    "Feel free to vary the following and note what impact each change has on the model's performance:\n",
    "\n",
    "1. Increase or decreate number of neurons in hidden layers\n",
    "2. Add more hidden layers\n",
    "3. Increase number of epochs\n"
   ]
  },
  {
   "cell_type": "markdown",
   "id": "49393892-6ed5-43f5-9e61-aec25003886c",
   "metadata": {},
   "source": [
    "### Thank you for completing this lab!\n",
    "\n",
    "This notebook was created by [Alex Aklson](https://www.linkedin.com/in/aklson/). I hope you found this lab interesting and educational. Feel free to contact me if you have any questions!\n"
   ]
  },
  {
   "cell_type": "markdown",
   "id": "53d16b11-a494-434f-ac46-97b58fb17bd0",
   "metadata": {},
   "source": [
    "<!--\n",
    "## Change Log\n",
    "\n",
    "|  Date (YYYY-MM-DD) |  Version | Changed By  |  Change Description |\n",
    "|---|---|---|---|\n",
    "| 2024-11-20  | 3.0  | Aman  |  Updated the library versions to current |\n",
    "| 2020-09-21  | 2.0  | Srishti  |  Migrated Lab to Markdown and added to course repo in GitLab |\n",
    "\n",
    "\n",
    "\n",
    "<hr>\n",
    "\n",
    "## <h3 align=\"center\"> © IBM Corporation. All rights reserved. <h3/>\n"
   ]
  },
  {
   "cell_type": "markdown",
   "id": "352b2a70-7333-4c27-b099-1ac629233125",
   "metadata": {},
   "source": [
    "<hr>\n",
    "\n",
    "Copyright &copy; [IBM Developer Skills Network](https://cognitiveclass.ai/?utm_source=bducopyrightlink&utm_medium=dswb&utm_campaign=bdu). This notebook and its source code are released under the terms of the [MIT License](https://opensource.org/license/mit).\n"
   ]
  },
  {
   "cell_type": "code",
   "execution_count": null,
   "id": "95317dbe-3d91-4a0f-bb19-99c017d1ca75",
   "metadata": {},
   "outputs": [],
   "source": []
  }
 ],
 "metadata": {
  "kernelspec": {
   "display_name": "Python 3",
   "language": "python",
   "name": "python3"
  },
  "language_info": {
   "codemirror_mode": {
    "name": "ipython",
    "version": 3
   },
   "file_extension": ".py",
   "mimetype": "text/x-python",
   "name": "python",
   "nbconvert_exporter": "python",
   "pygments_lexer": "ipython3",
   "version": "3.11.9"
  },
  "prev_pub_hash": "cbb86e20eb1e13d10f60b5e08fb000a189e0799554e7482999da2a778d69cfdf"
 },
 "nbformat": 4,
 "nbformat_minor": 4
}
